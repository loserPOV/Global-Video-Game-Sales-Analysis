{
  "cells": [
    {
      "cell_type": "markdown",
      "metadata": {
        "id": "6boIW22E7wlE"
      },
      "source": [
        "# INTRODUCTION"
      ]
    },
    {
      "cell_type": "markdown",
      "metadata": {},
      "source": [
        "> Nama : Fajar Ibrah Muhammad\n",
        "\n",
        "> Program ini dibuat untuk menganalisa/melakukan EDA dari dataset vgsales.csv."
      ]
    },
    {
      "cell_type": "markdown",
      "metadata": {},
      "source": [
        "Link Dashboard Tableau -> https://public.tableau.com/app/profile/fajar.muhammad6427/viz/Game8Dashboard/Game8Dashboard?publish=yes"
      ]
    },
    {
      "cell_type": "markdown",
      "metadata": {
        "id": "U92nVU4_77L7"
      },
      "source": [
        "# PROBLEM STATEMENTS"
      ]
    },
    {
      "cell_type": "markdown",
      "metadata": {
        "id": "FYdD8eRB8U1O"
      },
      "source": [
        "## CASE"
      ]
    },
    {
      "cell_type": "markdown",
      "metadata": {
        "id": "ySvhfJhe9ShR"
      },
      "source": [
        "Saya bekerja sebagai seorang Data Analyst di sebuah Game Studio bernama Game8 yang baru berdiri selama 1 tahun, dalam 1 tahun itu studio ini telah menyelesaikan dan men-deliver sebuah game, namun studio ini terlalu fokus kearah pembuatan game dan tidak memiliki strategi penjualan. Hal ini menyebabkan total penghasilan dan penjualan game tidak sesuai ekspektasi. Tugas saya sebagai seorang Data Analyst adalah memikirkan strategi agar penghasilan dan penjualan game selanjutnya dapat memenuhi ekspektasi, analisa strategi yang akan saya dilakukan akan berdasarkan dengan data yang dimiliki."
      ]
    },
    {
      "cell_type": "markdown",
      "metadata": {
        "id": "wFoJmM-SA1y_"
      },
      "source": [
        "## SMART Framework"
      ]
    },
    {
      "cell_type": "markdown",
      "metadata": {
        "id": "FE5vjsBJA5bz"
      },
      "source": [
        "- Specific  : Melakukan perencanaan strategi penjualan sebelum pembuatan game, seperti perencanaan region yang akan di fokuskan, platform, genre game, dan publisher.\n",
        "\n",
        "- Measurable : Meningkatkan penjualan game selanjutnya sebesar 25%.\n",
        "\n",
        "- Achievable : Measurables dapat di capai dengan pemilihan pemfokusan region, platform dan genre game, dan kerja sama dengan publisher yang tepat.\n",
        "\n",
        "- Relevant : Fokus pada peningkatan penjualan game yang paling sukses berdasarkan analisis data penjualan sebelumnya.\n",
        "\n",
        "- Time Bound : Meningkatkan penjualan game selanjutnya, di waktu 4 bulan setelah delivery game selanjutnya."
      ]
    },
    {
      "cell_type": "markdown",
      "metadata": {
        "id": "Bwoeviv1EI8d"
      },
      "source": [
        "## BREAKING DOWN THE PROBLEMS"
      ]
    },
    {
      "cell_type": "markdown",
      "metadata": {
        "id": "DCJku2F0ENc1"
      },
      "source": [
        "Untuk mempermudah analisis dan juga pemecahan masalah, saya juga akan menggunakan Framework 5W+1H dalam analisis pemecahan masalah ini, 5W+1H ini akan digunakan sesuai dengan data penjualan game yang kita miliki.\n",
        "\n",
        "1. <b> VISUALISASI </b>\n",
        "\n",
        "- Di region mana kah penjualan game terbanyak terjadi?\n",
        "\n",
        "- 10 publisher apa yang memiliki penjualan terbaik dari tahun 2010 sampai 2016?\n",
        "\n",
        "- Berapa rata-rata penjualan di masing-masing region dari tahun 2010 sampai 2016?\n",
        "\n",
        "- Apakah ada peningkatan penjualan game dari tahun 2010 sampai 2016?\n",
        "\n",
        "- 10 Genre apa yang memiliki penjualan terbaik dari tahun 2010 sampai 2016?\n",
        "\n",
        "- Bagaimana persentase penjulalan 6 platform terbaik?\n",
        "\n",
        "2. <b> STATISTIKA DESKRIPTIF </b>\n",
        "\n",
        "- Bagaimana pemusatan data penjualan game sejak tahun 2010 sampai 2016 jika dilihat dari penjualan global?\n",
        "\n",
        "- Dari data yang kita miliki, Apa saja faktor yang memiliki korelasi dengan penjualan global?\n",
        "\n",
        "3. <b> STATISTIKA INFERENSIAL </b>\n",
        "\n",
        "- Apakah ada perbedaan penjualan unit antara 4 region yang datanya kita miliki?\n",
        "\n"
      ]
    },
    {
      "cell_type": "markdown",
      "metadata": {
        "id": "P9HWzXbn77JD"
      },
      "source": [
        "# DATA LOADING"
      ]
    },
    {
      "cell_type": "markdown",
      "metadata": {
        "id": "Il1HoYEwH2Rp"
      },
      "source": [
        "Data penjualan game ini didapat dari: https://www.kaggle.com/datasets/gregorut/videogamesales , data ini hanya memiliki data penjualan game minimal 100.000 copy. Angka sales disini dalam angka jutaan."
      ]
    },
    {
      "cell_type": "code",
      "execution_count": 1,
      "metadata": {
        "id": "N4R0yxM3IdeM"
      },
      "outputs": [],
      "source": [
        "#import package yang diperlukan\n",
        "import pandas as pd\n",
        "from scipy import stats\n",
        "import numpy as np\n",
        "import matplotlib.pyplot as plt\n",
        "import seaborn as sns"
      ]
    },
    {
      "cell_type": "code",
      "execution_count": 2,
      "metadata": {
        "id": "lIS9K2nGH10M"
      },
      "outputs": [],
      "source": [
        "#import vgsales.csv menjadi dataframe df_gsales\n",
        "df_gsales = pd.read_csv('vgsales.csv')"
      ]
    },
    {
      "cell_type": "code",
      "execution_count": 3,
      "metadata": {
        "colab": {
          "base_uri": "https://localhost:8080/",
          "height": 475
        },
        "id": "brq7YDyUIzM5",
        "outputId": "bd0a655d-0ff1-493c-ae1a-b88af6b8bba0"
      },
      "outputs": [
        {
          "data": {
            "text/html": [
              "<div>\n",
              "<style scoped>\n",
              "    .dataframe tbody tr th:only-of-type {\n",
              "        vertical-align: middle;\n",
              "    }\n",
              "\n",
              "    .dataframe tbody tr th {\n",
              "        vertical-align: top;\n",
              "    }\n",
              "\n",
              "    .dataframe thead th {\n",
              "        text-align: right;\n",
              "    }\n",
              "</style>\n",
              "<table border=\"1\" class=\"dataframe\">\n",
              "  <thead>\n",
              "    <tr style=\"text-align: right;\">\n",
              "      <th></th>\n",
              "      <th>Rank</th>\n",
              "      <th>Name</th>\n",
              "      <th>Platform</th>\n",
              "      <th>Year</th>\n",
              "      <th>Genre</th>\n",
              "      <th>Publisher</th>\n",
              "      <th>NA_Sales</th>\n",
              "      <th>EU_Sales</th>\n",
              "      <th>JP_Sales</th>\n",
              "      <th>Other_Sales</th>\n",
              "      <th>Global_Sales</th>\n",
              "    </tr>\n",
              "  </thead>\n",
              "  <tbody>\n",
              "    <tr>\n",
              "      <th>0</th>\n",
              "      <td>1</td>\n",
              "      <td>Wii Sports</td>\n",
              "      <td>Wii</td>\n",
              "      <td>2006.0</td>\n",
              "      <td>Sports</td>\n",
              "      <td>Nintendo</td>\n",
              "      <td>41.49</td>\n",
              "      <td>29.02</td>\n",
              "      <td>3.77</td>\n",
              "      <td>8.46</td>\n",
              "      <td>82.74</td>\n",
              "    </tr>\n",
              "    <tr>\n",
              "      <th>1</th>\n",
              "      <td>2</td>\n",
              "      <td>Super Mario Bros.</td>\n",
              "      <td>NES</td>\n",
              "      <td>1985.0</td>\n",
              "      <td>Platform</td>\n",
              "      <td>Nintendo</td>\n",
              "      <td>29.08</td>\n",
              "      <td>3.58</td>\n",
              "      <td>6.81</td>\n",
              "      <td>0.77</td>\n",
              "      <td>40.24</td>\n",
              "    </tr>\n",
              "    <tr>\n",
              "      <th>2</th>\n",
              "      <td>3</td>\n",
              "      <td>Mario Kart Wii</td>\n",
              "      <td>Wii</td>\n",
              "      <td>2008.0</td>\n",
              "      <td>Racing</td>\n",
              "      <td>Nintendo</td>\n",
              "      <td>15.85</td>\n",
              "      <td>12.88</td>\n",
              "      <td>3.79</td>\n",
              "      <td>3.31</td>\n",
              "      <td>35.82</td>\n",
              "    </tr>\n",
              "    <tr>\n",
              "      <th>3</th>\n",
              "      <td>4</td>\n",
              "      <td>Wii Sports Resort</td>\n",
              "      <td>Wii</td>\n",
              "      <td>2009.0</td>\n",
              "      <td>Sports</td>\n",
              "      <td>Nintendo</td>\n",
              "      <td>15.75</td>\n",
              "      <td>11.01</td>\n",
              "      <td>3.28</td>\n",
              "      <td>2.96</td>\n",
              "      <td>33.00</td>\n",
              "    </tr>\n",
              "    <tr>\n",
              "      <th>4</th>\n",
              "      <td>5</td>\n",
              "      <td>Pokemon Red/Pokemon Blue</td>\n",
              "      <td>GB</td>\n",
              "      <td>1996.0</td>\n",
              "      <td>Role-Playing</td>\n",
              "      <td>Nintendo</td>\n",
              "      <td>11.27</td>\n",
              "      <td>8.89</td>\n",
              "      <td>10.22</td>\n",
              "      <td>1.00</td>\n",
              "      <td>31.37</td>\n",
              "    </tr>\n",
              "    <tr>\n",
              "      <th>...</th>\n",
              "      <td>...</td>\n",
              "      <td>...</td>\n",
              "      <td>...</td>\n",
              "      <td>...</td>\n",
              "      <td>...</td>\n",
              "      <td>...</td>\n",
              "      <td>...</td>\n",
              "      <td>...</td>\n",
              "      <td>...</td>\n",
              "      <td>...</td>\n",
              "      <td>...</td>\n",
              "    </tr>\n",
              "    <tr>\n",
              "      <th>16593</th>\n",
              "      <td>16596</td>\n",
              "      <td>Woody Woodpecker in Crazy Castle 5</td>\n",
              "      <td>GBA</td>\n",
              "      <td>2002.0</td>\n",
              "      <td>Platform</td>\n",
              "      <td>Kemco</td>\n",
              "      <td>0.01</td>\n",
              "      <td>0.00</td>\n",
              "      <td>0.00</td>\n",
              "      <td>0.00</td>\n",
              "      <td>0.01</td>\n",
              "    </tr>\n",
              "    <tr>\n",
              "      <th>16594</th>\n",
              "      <td>16597</td>\n",
              "      <td>Men in Black II: Alien Escape</td>\n",
              "      <td>GC</td>\n",
              "      <td>2003.0</td>\n",
              "      <td>Shooter</td>\n",
              "      <td>Infogrames</td>\n",
              "      <td>0.01</td>\n",
              "      <td>0.00</td>\n",
              "      <td>0.00</td>\n",
              "      <td>0.00</td>\n",
              "      <td>0.01</td>\n",
              "    </tr>\n",
              "    <tr>\n",
              "      <th>16595</th>\n",
              "      <td>16598</td>\n",
              "      <td>SCORE International Baja 1000: The Official Game</td>\n",
              "      <td>PS2</td>\n",
              "      <td>2008.0</td>\n",
              "      <td>Racing</td>\n",
              "      <td>Activision</td>\n",
              "      <td>0.00</td>\n",
              "      <td>0.00</td>\n",
              "      <td>0.00</td>\n",
              "      <td>0.00</td>\n",
              "      <td>0.01</td>\n",
              "    </tr>\n",
              "    <tr>\n",
              "      <th>16596</th>\n",
              "      <td>16599</td>\n",
              "      <td>Know How 2</td>\n",
              "      <td>DS</td>\n",
              "      <td>2010.0</td>\n",
              "      <td>Puzzle</td>\n",
              "      <td>7G//AMES</td>\n",
              "      <td>0.00</td>\n",
              "      <td>0.01</td>\n",
              "      <td>0.00</td>\n",
              "      <td>0.00</td>\n",
              "      <td>0.01</td>\n",
              "    </tr>\n",
              "    <tr>\n",
              "      <th>16597</th>\n",
              "      <td>16600</td>\n",
              "      <td>Spirits &amp; Spells</td>\n",
              "      <td>GBA</td>\n",
              "      <td>2003.0</td>\n",
              "      <td>Platform</td>\n",
              "      <td>Wanadoo</td>\n",
              "      <td>0.01</td>\n",
              "      <td>0.00</td>\n",
              "      <td>0.00</td>\n",
              "      <td>0.00</td>\n",
              "      <td>0.01</td>\n",
              "    </tr>\n",
              "  </tbody>\n",
              "</table>\n",
              "<p>16598 rows × 11 columns</p>\n",
              "</div>"
            ],
            "text/plain": [
              "        Rank                                              Name Platform  \\\n",
              "0          1                                        Wii Sports      Wii   \n",
              "1          2                                 Super Mario Bros.      NES   \n",
              "2          3                                    Mario Kart Wii      Wii   \n",
              "3          4                                 Wii Sports Resort      Wii   \n",
              "4          5                          Pokemon Red/Pokemon Blue       GB   \n",
              "...      ...                                               ...      ...   \n",
              "16593  16596                Woody Woodpecker in Crazy Castle 5      GBA   \n",
              "16594  16597                     Men in Black II: Alien Escape       GC   \n",
              "16595  16598  SCORE International Baja 1000: The Official Game      PS2   \n",
              "16596  16599                                        Know How 2       DS   \n",
              "16597  16600                                  Spirits & Spells      GBA   \n",
              "\n",
              "         Year         Genre   Publisher  NA_Sales  EU_Sales  JP_Sales  \\\n",
              "0      2006.0        Sports    Nintendo     41.49     29.02      3.77   \n",
              "1      1985.0      Platform    Nintendo     29.08      3.58      6.81   \n",
              "2      2008.0        Racing    Nintendo     15.85     12.88      3.79   \n",
              "3      2009.0        Sports    Nintendo     15.75     11.01      3.28   \n",
              "4      1996.0  Role-Playing    Nintendo     11.27      8.89     10.22   \n",
              "...       ...           ...         ...       ...       ...       ...   \n",
              "16593  2002.0      Platform       Kemco      0.01      0.00      0.00   \n",
              "16594  2003.0       Shooter  Infogrames      0.01      0.00      0.00   \n",
              "16595  2008.0        Racing  Activision      0.00      0.00      0.00   \n",
              "16596  2010.0        Puzzle    7G//AMES      0.00      0.01      0.00   \n",
              "16597  2003.0      Platform     Wanadoo      0.01      0.00      0.00   \n",
              "\n",
              "       Other_Sales  Global_Sales  \n",
              "0             8.46         82.74  \n",
              "1             0.77         40.24  \n",
              "2             3.31         35.82  \n",
              "3             2.96         33.00  \n",
              "4             1.00         31.37  \n",
              "...            ...           ...  \n",
              "16593         0.00          0.01  \n",
              "16594         0.00          0.01  \n",
              "16595         0.00          0.01  \n",
              "16596         0.00          0.01  \n",
              "16597         0.00          0.01  \n",
              "\n",
              "[16598 rows x 11 columns]"
            ]
          },
          "execution_count": 3,
          "metadata": {},
          "output_type": "execute_result"
        }
      ],
      "source": [
        "df_gsales"
      ]
    },
    {
      "cell_type": "markdown",
      "metadata": {
        "id": "rxIUmyQK77Gk"
      },
      "source": [
        "# DATA CLEANING"
      ]
    },
    {
      "cell_type": "code",
      "execution_count": 4,
      "metadata": {
        "colab": {
          "base_uri": "https://localhost:8080/"
        },
        "id": "Ic6-CMXDLYuM",
        "outputId": "340d29cf-0528-4ab5-92a5-1a89b9817b9c"
      },
      "outputs": [
        {
          "name": "stdout",
          "output_type": "stream",
          "text": [
            "<class 'pandas.core.frame.DataFrame'>\n",
            "RangeIndex: 16598 entries, 0 to 16597\n",
            "Data columns (total 11 columns):\n",
            " #   Column        Non-Null Count  Dtype  \n",
            "---  ------        --------------  -----  \n",
            " 0   Rank          16598 non-null  int64  \n",
            " 1   Name          16598 non-null  object \n",
            " 2   Platform      16598 non-null  object \n",
            " 3   Year          16327 non-null  float64\n",
            " 4   Genre         16598 non-null  object \n",
            " 5   Publisher     16540 non-null  object \n",
            " 6   NA_Sales      16598 non-null  float64\n",
            " 7   EU_Sales      16598 non-null  float64\n",
            " 8   JP_Sales      16598 non-null  float64\n",
            " 9   Other_Sales   16598 non-null  float64\n",
            " 10  Global_Sales  16598 non-null  float64\n",
            "dtypes: float64(6), int64(1), object(4)\n",
            "memory usage: 1.4+ MB\n"
          ]
        }
      ],
      "source": [
        "#menampilkan info dari g_sales\n",
        "df_gsales.info()"
      ]
    },
    {
      "cell_type": "markdown",
      "metadata": {},
      "source": [
        "Dari info diatas terlihat bahwa masih ada data yang bersifat Null di dalam dataframe ini, maka selanjutnya akan dilakukan pembersihan data."
      ]
    },
    {
      "cell_type": "code",
      "execution_count": 5,
      "metadata": {
        "colab": {
          "base_uri": "https://localhost:8080/"
        },
        "id": "s8nDomyiMKwk",
        "outputId": "166a9401-ea74-4fc5-addc-1c54331c5e9a"
      },
      "outputs": [
        {
          "name": "stderr",
          "output_type": "stream",
          "text": [
            "C:\\Users\\R.O.G\\AppData\\Local\\Temp\\ipykernel_19024\\1790554416.py:8: SettingWithCopyWarning: \n",
            "A value is trying to be set on a copy of a slice from a DataFrame.\n",
            "Try using .loc[row_indexer,col_indexer] = value instead\n",
            "\n",
            "See the caveats in the documentation: https://pandas.pydata.org/pandas-docs/stable/user_guide/indexing.html#returning-a-view-versus-a-copy\n",
            "  df_gsales['Year'] = df_gsales['Year'].astype(int)\n"
          ]
        }
      ],
      "source": [
        "#drop null value\n",
        "df_gsales = df_gsales.dropna()\n",
        "\n",
        "#menghapus kolom rank\n",
        "del df_gsales['Rank']\n",
        "\n",
        "#mengubah tipe data kolom Year menjadi integer\n",
        "df_gsales['Year'] = df_gsales['Year'].astype(int)"
      ]
    },
    {
      "cell_type": "code",
      "execution_count": 6,
      "metadata": {
        "colab": {
          "base_uri": "https://localhost:8080/"
        },
        "id": "yN4k8N6yL8Rf",
        "outputId": "dc98404e-c513-4133-cd91-ee591fc6c57c"
      },
      "outputs": [
        {
          "name": "stdout",
          "output_type": "stream",
          "text": [
            "<class 'pandas.core.frame.DataFrame'>\n",
            "Index: 16291 entries, 0 to 16597\n",
            "Data columns (total 10 columns):\n",
            " #   Column        Non-Null Count  Dtype  \n",
            "---  ------        --------------  -----  \n",
            " 0   Name          16291 non-null  object \n",
            " 1   Platform      16291 non-null  object \n",
            " 2   Year          16291 non-null  int32  \n",
            " 3   Genre         16291 non-null  object \n",
            " 4   Publisher     16291 non-null  object \n",
            " 5   NA_Sales      16291 non-null  float64\n",
            " 6   EU_Sales      16291 non-null  float64\n",
            " 7   JP_Sales      16291 non-null  float64\n",
            " 8   Other_Sales   16291 non-null  float64\n",
            " 9   Global_Sales  16291 non-null  float64\n",
            "dtypes: float64(5), int32(1), object(4)\n",
            "memory usage: 1.3+ MB\n"
          ]
        }
      ],
      "source": [
        "df_gsales.info()"
      ]
    },
    {
      "cell_type": "markdown",
      "metadata": {},
      "source": [
        "Terlihat dari informasi diatas bahwa sudah tidak ada null value di dalam dataframe kita, sudah terlihat juga bahwa tipe data kolom Year sudah berubah menjadi integer."
      ]
    },
    {
      "cell_type": "code",
      "execution_count": 7,
      "metadata": {
        "id": "31d9a0O7MRO2"
      },
      "outputs": [],
      "source": [
        "#menghilangkan data duplikat\n",
        "df_gsales = df_gsales.drop_duplicates()"
      ]
    },
    {
      "cell_type": "code",
      "execution_count": 8,
      "metadata": {
        "colab": {
          "base_uri": "https://localhost:8080/"
        },
        "id": "9Nagj5JKO0ks",
        "outputId": "e36c2877-e2a3-49fb-c374-fe6ea6043402"
      },
      "outputs": [
        {
          "name": "stdout",
          "output_type": "stream",
          "text": [
            "<class 'pandas.core.frame.DataFrame'>\n",
            "Index: 16291 entries, 0 to 16597\n",
            "Data columns (total 10 columns):\n",
            " #   Column        Non-Null Count  Dtype  \n",
            "---  ------        --------------  -----  \n",
            " 0   Name          16291 non-null  object \n",
            " 1   Platform      16291 non-null  object \n",
            " 2   Year          16291 non-null  int32  \n",
            " 3   Genre         16291 non-null  object \n",
            " 4   Publisher     16291 non-null  object \n",
            " 5   NA_Sales      16291 non-null  float64\n",
            " 6   EU_Sales      16291 non-null  float64\n",
            " 7   JP_Sales      16291 non-null  float64\n",
            " 8   Other_Sales   16291 non-null  float64\n",
            " 9   Global_Sales  16291 non-null  float64\n",
            "dtypes: float64(5), int32(1), object(4)\n",
            "memory usage: 1.3+ MB\n"
          ]
        }
      ],
      "source": [
        "df_gsales.info()"
      ]
    },
    {
      "cell_type": "markdown",
      "metadata": {},
      "source": [
        "Terlihat dari info diatas bahwa tidak ada perubahan data, ini menunjukkan bahwa tidak ada data duplikat di dalam dataframe. "
      ]
    },
    {
      "cell_type": "code",
      "execution_count": 9,
      "metadata": {
        "id": "Kfij1cE1O-RJ"
      },
      "outputs": [],
      "source": [
        "#membuat dataframe baru yang hanya berisi data dari tahun 2010-2016, dan penjualan global diatas 0.1\n",
        "df_gsales2 = df_gsales[(df_gsales['Year'] >= 2010) & (df_gsales['Year'] <= 2016) & (df_gsales['Global_Sales'] >= 0.1)]"
      ]
    },
    {
      "cell_type": "markdown",
      "metadata": {},
      "source": [
        "Kita hanya memilih data dari 2010-2016 dikarenakan data dibawah tahun 2010 dianggap kurang relevan dengan kondisi trend yang sedang berlangsung, dan juga data dengan penjualan dibawah 0.1 atau dibawah 100,000 unit dianggap terlalu rendah untuk analisa ini. "
      ]
    },
    {
      "cell_type": "code",
      "execution_count": 10,
      "metadata": {
        "colab": {
          "base_uri": "https://localhost:8080/"
        },
        "id": "L3qXxME4R90y",
        "outputId": "2c1130c5-eb8e-46c7-f20e-c3d3ce9e77dd"
      },
      "outputs": [
        {
          "name": "stdout",
          "output_type": "stream",
          "text": [
            "<class 'pandas.core.frame.DataFrame'>\n",
            "Index: 3063 entries, 15 to 10814\n",
            "Data columns (total 10 columns):\n",
            " #   Column        Non-Null Count  Dtype  \n",
            "---  ------        --------------  -----  \n",
            " 0   Name          3063 non-null   object \n",
            " 1   Platform      3063 non-null   object \n",
            " 2   Year          3063 non-null   int32  \n",
            " 3   Genre         3063 non-null   object \n",
            " 4   Publisher     3063 non-null   object \n",
            " 5   NA_Sales      3063 non-null   float64\n",
            " 6   EU_Sales      3063 non-null   float64\n",
            " 7   JP_Sales      3063 non-null   float64\n",
            " 8   Other_Sales   3063 non-null   float64\n",
            " 9   Global_Sales  3063 non-null   float64\n",
            "dtypes: float64(5), int32(1), object(4)\n",
            "memory usage: 251.3+ KB\n"
          ]
        }
      ],
      "source": [
        "df_gsales2.info()"
      ]
    },
    {
      "cell_type": "markdown",
      "metadata": {},
      "source": [
        "Terlihat bahwa data yang kita miliki telah terpotong sesuai dengan kondisi yang diinginkan."
      ]
    },
    {
      "cell_type": "code",
      "execution_count": 11,
      "metadata": {},
      "outputs": [
        {
          "data": {
            "text/html": [
              "<div>\n",
              "<style scoped>\n",
              "    .dataframe tbody tr th:only-of-type {\n",
              "        vertical-align: middle;\n",
              "    }\n",
              "\n",
              "    .dataframe tbody tr th {\n",
              "        vertical-align: top;\n",
              "    }\n",
              "\n",
              "    .dataframe thead th {\n",
              "        text-align: right;\n",
              "    }\n",
              "</style>\n",
              "<table border=\"1\" class=\"dataframe\">\n",
              "  <thead>\n",
              "    <tr style=\"text-align: right;\">\n",
              "      <th></th>\n",
              "      <th>Name</th>\n",
              "      <th>Platform</th>\n",
              "      <th>Year</th>\n",
              "      <th>Genre</th>\n",
              "      <th>Publisher</th>\n",
              "      <th>NA_Sales</th>\n",
              "      <th>EU_Sales</th>\n",
              "      <th>JP_Sales</th>\n",
              "      <th>Other_Sales</th>\n",
              "      <th>Global_Sales</th>\n",
              "    </tr>\n",
              "  </thead>\n",
              "  <tbody>\n",
              "    <tr>\n",
              "      <th>15</th>\n",
              "      <td>Kinect Adventures!</td>\n",
              "      <td>X360</td>\n",
              "      <td>2010</td>\n",
              "      <td>Misc</td>\n",
              "      <td>Microsoft Game Studios</td>\n",
              "      <td>14.97</td>\n",
              "      <td>4.94</td>\n",
              "      <td>0.24</td>\n",
              "      <td>1.67</td>\n",
              "      <td>21.82</td>\n",
              "    </tr>\n",
              "    <tr>\n",
              "      <th>16</th>\n",
              "      <td>Grand Theft Auto V</td>\n",
              "      <td>PS3</td>\n",
              "      <td>2013</td>\n",
              "      <td>Action</td>\n",
              "      <td>Take-Two Interactive</td>\n",
              "      <td>7.01</td>\n",
              "      <td>9.27</td>\n",
              "      <td>0.97</td>\n",
              "      <td>4.14</td>\n",
              "      <td>21.40</td>\n",
              "    </tr>\n",
              "    <tr>\n",
              "      <th>23</th>\n",
              "      <td>Grand Theft Auto V</td>\n",
              "      <td>X360</td>\n",
              "      <td>2013</td>\n",
              "      <td>Action</td>\n",
              "      <td>Take-Two Interactive</td>\n",
              "      <td>9.63</td>\n",
              "      <td>5.31</td>\n",
              "      <td>0.06</td>\n",
              "      <td>1.38</td>\n",
              "      <td>16.38</td>\n",
              "    </tr>\n",
              "    <tr>\n",
              "      <th>26</th>\n",
              "      <td>Pokemon Black/Pokemon White</td>\n",
              "      <td>DS</td>\n",
              "      <td>2010</td>\n",
              "      <td>Role-Playing</td>\n",
              "      <td>Nintendo</td>\n",
              "      <td>5.57</td>\n",
              "      <td>3.28</td>\n",
              "      <td>5.65</td>\n",
              "      <td>0.82</td>\n",
              "      <td>15.32</td>\n",
              "    </tr>\n",
              "    <tr>\n",
              "      <th>29</th>\n",
              "      <td>Call of Duty: Modern Warfare 3</td>\n",
              "      <td>X360</td>\n",
              "      <td>2011</td>\n",
              "      <td>Shooter</td>\n",
              "      <td>Activision</td>\n",
              "      <td>9.03</td>\n",
              "      <td>4.28</td>\n",
              "      <td>0.13</td>\n",
              "      <td>1.32</td>\n",
              "      <td>14.76</td>\n",
              "    </tr>\n",
              "    <tr>\n",
              "      <th>...</th>\n",
              "      <td>...</td>\n",
              "      <td>...</td>\n",
              "      <td>...</td>\n",
              "      <td>...</td>\n",
              "      <td>...</td>\n",
              "      <td>...</td>\n",
              "      <td>...</td>\n",
              "      <td>...</td>\n",
              "      <td>...</td>\n",
              "      <td>...</td>\n",
              "    </tr>\n",
              "    <tr>\n",
              "      <th>10808</th>\n",
              "      <td>Natural Doctrine</td>\n",
              "      <td>PS4</td>\n",
              "      <td>2014</td>\n",
              "      <td>Role-Playing</td>\n",
              "      <td>Nippon Ichi Software</td>\n",
              "      <td>0.05</td>\n",
              "      <td>0.02</td>\n",
              "      <td>0.02</td>\n",
              "      <td>0.01</td>\n",
              "      <td>0.10</td>\n",
              "    </tr>\n",
              "    <tr>\n",
              "      <th>10810</th>\n",
              "      <td>Mystery Stories: Curse of the Ancient Spirits</td>\n",
              "      <td>DS</td>\n",
              "      <td>2011</td>\n",
              "      <td>Adventure</td>\n",
              "      <td>GSP</td>\n",
              "      <td>0.05</td>\n",
              "      <td>0.04</td>\n",
              "      <td>0.00</td>\n",
              "      <td>0.01</td>\n",
              "      <td>0.10</td>\n",
              "    </tr>\n",
              "    <tr>\n",
              "      <th>10811</th>\n",
              "      <td>Kuroko's Basketball: Miracle Game</td>\n",
              "      <td>3DS</td>\n",
              "      <td>2014</td>\n",
              "      <td>Sports</td>\n",
              "      <td>Namco Bandai Games</td>\n",
              "      <td>0.00</td>\n",
              "      <td>0.00</td>\n",
              "      <td>0.10</td>\n",
              "      <td>0.00</td>\n",
              "      <td>0.10</td>\n",
              "    </tr>\n",
              "    <tr>\n",
              "      <th>10813</th>\n",
              "      <td>MindJack</td>\n",
              "      <td>X360</td>\n",
              "      <td>2011</td>\n",
              "      <td>Shooter</td>\n",
              "      <td>Square Enix</td>\n",
              "      <td>0.07</td>\n",
              "      <td>0.02</td>\n",
              "      <td>0.00</td>\n",
              "      <td>0.01</td>\n",
              "      <td>0.10</td>\n",
              "    </tr>\n",
              "    <tr>\n",
              "      <th>10814</th>\n",
              "      <td>ReCore</td>\n",
              "      <td>XOne</td>\n",
              "      <td>2016</td>\n",
              "      <td>Action</td>\n",
              "      <td>Microsoft Game Studios</td>\n",
              "      <td>0.06</td>\n",
              "      <td>0.03</td>\n",
              "      <td>0.00</td>\n",
              "      <td>0.01</td>\n",
              "      <td>0.10</td>\n",
              "    </tr>\n",
              "  </tbody>\n",
              "</table>\n",
              "<p>3063 rows × 10 columns</p>\n",
              "</div>"
            ],
            "text/plain": [
              "                                                Name Platform  Year  \\\n",
              "15                                Kinect Adventures!     X360  2010   \n",
              "16                                Grand Theft Auto V      PS3  2013   \n",
              "23                                Grand Theft Auto V     X360  2013   \n",
              "26                       Pokemon Black/Pokemon White       DS  2010   \n",
              "29                    Call of Duty: Modern Warfare 3     X360  2011   \n",
              "...                                              ...      ...   ...   \n",
              "10808                               Natural Doctrine      PS4  2014   \n",
              "10810  Mystery Stories: Curse of the Ancient Spirits       DS  2011   \n",
              "10811              Kuroko's Basketball: Miracle Game      3DS  2014   \n",
              "10813                                       MindJack     X360  2011   \n",
              "10814                                         ReCore     XOne  2016   \n",
              "\n",
              "              Genre               Publisher  NA_Sales  EU_Sales  JP_Sales  \\\n",
              "15             Misc  Microsoft Game Studios     14.97      4.94      0.24   \n",
              "16           Action    Take-Two Interactive      7.01      9.27      0.97   \n",
              "23           Action    Take-Two Interactive      9.63      5.31      0.06   \n",
              "26     Role-Playing                Nintendo      5.57      3.28      5.65   \n",
              "29          Shooter              Activision      9.03      4.28      0.13   \n",
              "...             ...                     ...       ...       ...       ...   \n",
              "10808  Role-Playing    Nippon Ichi Software      0.05      0.02      0.02   \n",
              "10810     Adventure                     GSP      0.05      0.04      0.00   \n",
              "10811        Sports      Namco Bandai Games      0.00      0.00      0.10   \n",
              "10813       Shooter             Square Enix      0.07      0.02      0.00   \n",
              "10814        Action  Microsoft Game Studios      0.06      0.03      0.00   \n",
              "\n",
              "       Other_Sales  Global_Sales  \n",
              "15            1.67         21.82  \n",
              "16            4.14         21.40  \n",
              "23            1.38         16.38  \n",
              "26            0.82         15.32  \n",
              "29            1.32         14.76  \n",
              "...            ...           ...  \n",
              "10808         0.01          0.10  \n",
              "10810         0.01          0.10  \n",
              "10811         0.00          0.10  \n",
              "10813         0.01          0.10  \n",
              "10814         0.01          0.10  \n",
              "\n",
              "[3063 rows x 10 columns]"
            ]
          },
          "execution_count": 11,
          "metadata": {},
          "output_type": "execute_result"
        }
      ],
      "source": [
        "df_gsales2"
      ]
    },
    {
      "cell_type": "code",
      "execution_count": 12,
      "metadata": {
        "colab": {
          "base_uri": "https://localhost:8080/"
        },
        "id": "dySewitASJPc",
        "outputId": "4db0bd66-4c6b-415c-ba5b-e4f469a99c12"
      },
      "outputs": [
        {
          "name": "stdout",
          "output_type": "stream",
          "text": [
            "[2010 2011 2012 2013 2014 2015 2016]\n"
          ]
        }
      ],
      "source": [
        "#melihat data tahun yang unique\n",
        "a = df_gsales2[\"Year\"].unique()\n",
        "a.sort()\n",
        "print (a)"
      ]
    },
    {
      "cell_type": "markdown",
      "metadata": {},
      "source": [
        "Sudah terlihat bahwa hanya ada tahun antara 2010-2016, sesuai dengan yang diinginkan."
      ]
    },
    {
      "cell_type": "code",
      "execution_count": 13,
      "metadata": {},
      "outputs": [
        {
          "name": "stderr",
          "output_type": "stream",
          "text": [
            "C:\\Users\\R.O.G\\AppData\\Local\\Temp\\ipykernel_19024\\1547994803.py:2: SettingWithCopyWarning: \n",
            "A value is trying to be set on a copy of a slice from a DataFrame.\n",
            "Try using .loc[row_indexer,col_indexer] = value instead\n",
            "\n",
            "See the caveats in the documentation: https://pandas.pydata.org/pandas-docs/stable/user_guide/indexing.html#returning-a-view-versus-a-copy\n",
            "  df_gsales2['NA_Sales'] = df_gsales2['NA_Sales']*1000000\n",
            "C:\\Users\\R.O.G\\AppData\\Local\\Temp\\ipykernel_19024\\1547994803.py:3: SettingWithCopyWarning: \n",
            "A value is trying to be set on a copy of a slice from a DataFrame.\n",
            "Try using .loc[row_indexer,col_indexer] = value instead\n",
            "\n",
            "See the caveats in the documentation: https://pandas.pydata.org/pandas-docs/stable/user_guide/indexing.html#returning-a-view-versus-a-copy\n",
            "  df_gsales2['EU_Sales'] = df_gsales2['EU_Sales']*1000000\n",
            "C:\\Users\\R.O.G\\AppData\\Local\\Temp\\ipykernel_19024\\1547994803.py:4: SettingWithCopyWarning: \n",
            "A value is trying to be set on a copy of a slice from a DataFrame.\n",
            "Try using .loc[row_indexer,col_indexer] = value instead\n",
            "\n",
            "See the caveats in the documentation: https://pandas.pydata.org/pandas-docs/stable/user_guide/indexing.html#returning-a-view-versus-a-copy\n",
            "  df_gsales2['JP_Sales'] = df_gsales2['JP_Sales']*1000000\n",
            "C:\\Users\\R.O.G\\AppData\\Local\\Temp\\ipykernel_19024\\1547994803.py:5: SettingWithCopyWarning: \n",
            "A value is trying to be set on a copy of a slice from a DataFrame.\n",
            "Try using .loc[row_indexer,col_indexer] = value instead\n",
            "\n",
            "See the caveats in the documentation: https://pandas.pydata.org/pandas-docs/stable/user_guide/indexing.html#returning-a-view-versus-a-copy\n",
            "  df_gsales2['Other_Sales'] = df_gsales2['Other_Sales']*1000000\n",
            "C:\\Users\\R.O.G\\AppData\\Local\\Temp\\ipykernel_19024\\1547994803.py:6: SettingWithCopyWarning: \n",
            "A value is trying to be set on a copy of a slice from a DataFrame.\n",
            "Try using .loc[row_indexer,col_indexer] = value instead\n",
            "\n",
            "See the caveats in the documentation: https://pandas.pydata.org/pandas-docs/stable/user_guide/indexing.html#returning-a-view-versus-a-copy\n",
            "  df_gsales2['Global_Sales'] = df_gsales2['Global_Sales']*1000000\n"
          ]
        }
      ],
      "source": [
        "#mengkalikan semua sales dengan 1000000 untuk mempermudah visual pada saat analisa\n",
        "df_gsales2['NA_Sales'] = df_gsales2['NA_Sales']*1000000\n",
        "df_gsales2['EU_Sales'] = df_gsales2['EU_Sales']*1000000\n",
        "df_gsales2['JP_Sales'] = df_gsales2['JP_Sales']*1000000\n",
        "df_gsales2['Other_Sales'] = df_gsales2['Other_Sales']*1000000\n",
        "df_gsales2['Global_Sales'] = df_gsales2['Global_Sales']*1000000"
      ]
    },
    {
      "cell_type": "code",
      "execution_count": 14,
      "metadata": {
        "id": "AGsQ2PD2SSS7"
      },
      "outputs": [],
      "source": [
        "#eksport data yang sudah dibersihkan ke dalam vgsales-10.csv\n",
        "df_gsales2 = df_gsales2.to_csv('vgsales-10.csv', index=False)"
      ]
    },
    {
      "cell_type": "markdown",
      "metadata": {
        "id": "8gisChHb77EN"
      },
      "source": [
        "# ANALYSIS"
      ]
    },
    {
      "cell_type": "code",
      "execution_count": 15,
      "metadata": {},
      "outputs": [
        {
          "data": {
            "text/html": [
              "<div>\n",
              "<style scoped>\n",
              "    .dataframe tbody tr th:only-of-type {\n",
              "        vertical-align: middle;\n",
              "    }\n",
              "\n",
              "    .dataframe tbody tr th {\n",
              "        vertical-align: top;\n",
              "    }\n",
              "\n",
              "    .dataframe thead th {\n",
              "        text-align: right;\n",
              "    }\n",
              "</style>\n",
              "<table border=\"1\" class=\"dataframe\">\n",
              "  <thead>\n",
              "    <tr style=\"text-align: right;\">\n",
              "      <th></th>\n",
              "      <th>Name</th>\n",
              "      <th>Platform</th>\n",
              "      <th>Year</th>\n",
              "      <th>Genre</th>\n",
              "      <th>Publisher</th>\n",
              "      <th>NA_Sales</th>\n",
              "      <th>EU_Sales</th>\n",
              "      <th>JP_Sales</th>\n",
              "      <th>Other_Sales</th>\n",
              "      <th>Global_Sales</th>\n",
              "    </tr>\n",
              "  </thead>\n",
              "  <tbody>\n",
              "    <tr>\n",
              "      <th>0</th>\n",
              "      <td>Kinect Adventures!</td>\n",
              "      <td>X360</td>\n",
              "      <td>2010</td>\n",
              "      <td>Misc</td>\n",
              "      <td>Microsoft Game Studios</td>\n",
              "      <td>14970000.0</td>\n",
              "      <td>4940000.0</td>\n",
              "      <td>240000.0</td>\n",
              "      <td>1670000.0</td>\n",
              "      <td>21820000.0</td>\n",
              "    </tr>\n",
              "    <tr>\n",
              "      <th>1</th>\n",
              "      <td>Grand Theft Auto V</td>\n",
              "      <td>PS3</td>\n",
              "      <td>2013</td>\n",
              "      <td>Action</td>\n",
              "      <td>Take-Two Interactive</td>\n",
              "      <td>7010000.0</td>\n",
              "      <td>9270000.0</td>\n",
              "      <td>970000.0</td>\n",
              "      <td>4140000.0</td>\n",
              "      <td>21400000.0</td>\n",
              "    </tr>\n",
              "    <tr>\n",
              "      <th>2</th>\n",
              "      <td>Grand Theft Auto V</td>\n",
              "      <td>X360</td>\n",
              "      <td>2013</td>\n",
              "      <td>Action</td>\n",
              "      <td>Take-Two Interactive</td>\n",
              "      <td>9630000.0</td>\n",
              "      <td>5310000.0</td>\n",
              "      <td>60000.0</td>\n",
              "      <td>1380000.0</td>\n",
              "      <td>16380000.0</td>\n",
              "    </tr>\n",
              "    <tr>\n",
              "      <th>3</th>\n",
              "      <td>Pokemon Black/Pokemon White</td>\n",
              "      <td>DS</td>\n",
              "      <td>2010</td>\n",
              "      <td>Role-Playing</td>\n",
              "      <td>Nintendo</td>\n",
              "      <td>5570000.0</td>\n",
              "      <td>3280000.0</td>\n",
              "      <td>5650000.0</td>\n",
              "      <td>820000.0</td>\n",
              "      <td>15320000.0</td>\n",
              "    </tr>\n",
              "    <tr>\n",
              "      <th>4</th>\n",
              "      <td>Call of Duty: Modern Warfare 3</td>\n",
              "      <td>X360</td>\n",
              "      <td>2011</td>\n",
              "      <td>Shooter</td>\n",
              "      <td>Activision</td>\n",
              "      <td>9030000.0</td>\n",
              "      <td>4280000.0</td>\n",
              "      <td>130000.0</td>\n",
              "      <td>1320000.0</td>\n",
              "      <td>14760000.0</td>\n",
              "    </tr>\n",
              "    <tr>\n",
              "      <th>...</th>\n",
              "      <td>...</td>\n",
              "      <td>...</td>\n",
              "      <td>...</td>\n",
              "      <td>...</td>\n",
              "      <td>...</td>\n",
              "      <td>...</td>\n",
              "      <td>...</td>\n",
              "      <td>...</td>\n",
              "      <td>...</td>\n",
              "      <td>...</td>\n",
              "    </tr>\n",
              "    <tr>\n",
              "      <th>3058</th>\n",
              "      <td>Natural Doctrine</td>\n",
              "      <td>PS4</td>\n",
              "      <td>2014</td>\n",
              "      <td>Role-Playing</td>\n",
              "      <td>Nippon Ichi Software</td>\n",
              "      <td>50000.0</td>\n",
              "      <td>20000.0</td>\n",
              "      <td>20000.0</td>\n",
              "      <td>10000.0</td>\n",
              "      <td>100000.0</td>\n",
              "    </tr>\n",
              "    <tr>\n",
              "      <th>3059</th>\n",
              "      <td>Mystery Stories: Curse of the Ancient Spirits</td>\n",
              "      <td>DS</td>\n",
              "      <td>2011</td>\n",
              "      <td>Adventure</td>\n",
              "      <td>GSP</td>\n",
              "      <td>50000.0</td>\n",
              "      <td>40000.0</td>\n",
              "      <td>0.0</td>\n",
              "      <td>10000.0</td>\n",
              "      <td>100000.0</td>\n",
              "    </tr>\n",
              "    <tr>\n",
              "      <th>3060</th>\n",
              "      <td>Kuroko's Basketball: Miracle Game</td>\n",
              "      <td>3DS</td>\n",
              "      <td>2014</td>\n",
              "      <td>Sports</td>\n",
              "      <td>Namco Bandai Games</td>\n",
              "      <td>0.0</td>\n",
              "      <td>0.0</td>\n",
              "      <td>100000.0</td>\n",
              "      <td>0.0</td>\n",
              "      <td>100000.0</td>\n",
              "    </tr>\n",
              "    <tr>\n",
              "      <th>3061</th>\n",
              "      <td>MindJack</td>\n",
              "      <td>X360</td>\n",
              "      <td>2011</td>\n",
              "      <td>Shooter</td>\n",
              "      <td>Square Enix</td>\n",
              "      <td>70000.0</td>\n",
              "      <td>20000.0</td>\n",
              "      <td>0.0</td>\n",
              "      <td>10000.0</td>\n",
              "      <td>100000.0</td>\n",
              "    </tr>\n",
              "    <tr>\n",
              "      <th>3062</th>\n",
              "      <td>ReCore</td>\n",
              "      <td>XOne</td>\n",
              "      <td>2016</td>\n",
              "      <td>Action</td>\n",
              "      <td>Microsoft Game Studios</td>\n",
              "      <td>60000.0</td>\n",
              "      <td>30000.0</td>\n",
              "      <td>0.0</td>\n",
              "      <td>10000.0</td>\n",
              "      <td>100000.0</td>\n",
              "    </tr>\n",
              "  </tbody>\n",
              "</table>\n",
              "<p>3063 rows × 10 columns</p>\n",
              "</div>"
            ],
            "text/plain": [
              "                                               Name Platform  Year  \\\n",
              "0                                Kinect Adventures!     X360  2010   \n",
              "1                                Grand Theft Auto V      PS3  2013   \n",
              "2                                Grand Theft Auto V     X360  2013   \n",
              "3                       Pokemon Black/Pokemon White       DS  2010   \n",
              "4                    Call of Duty: Modern Warfare 3     X360  2011   \n",
              "...                                             ...      ...   ...   \n",
              "3058                               Natural Doctrine      PS4  2014   \n",
              "3059  Mystery Stories: Curse of the Ancient Spirits       DS  2011   \n",
              "3060              Kuroko's Basketball: Miracle Game      3DS  2014   \n",
              "3061                                       MindJack     X360  2011   \n",
              "3062                                         ReCore     XOne  2016   \n",
              "\n",
              "             Genre               Publisher    NA_Sales   EU_Sales   JP_Sales  \\\n",
              "0             Misc  Microsoft Game Studios  14970000.0  4940000.0   240000.0   \n",
              "1           Action    Take-Two Interactive   7010000.0  9270000.0   970000.0   \n",
              "2           Action    Take-Two Interactive   9630000.0  5310000.0    60000.0   \n",
              "3     Role-Playing                Nintendo   5570000.0  3280000.0  5650000.0   \n",
              "4          Shooter              Activision   9030000.0  4280000.0   130000.0   \n",
              "...            ...                     ...         ...        ...        ...   \n",
              "3058  Role-Playing    Nippon Ichi Software     50000.0    20000.0    20000.0   \n",
              "3059     Adventure                     GSP     50000.0    40000.0        0.0   \n",
              "3060        Sports      Namco Bandai Games         0.0        0.0   100000.0   \n",
              "3061       Shooter             Square Enix     70000.0    20000.0        0.0   \n",
              "3062        Action  Microsoft Game Studios     60000.0    30000.0        0.0   \n",
              "\n",
              "      Other_Sales  Global_Sales  \n",
              "0       1670000.0    21820000.0  \n",
              "1       4140000.0    21400000.0  \n",
              "2       1380000.0    16380000.0  \n",
              "3        820000.0    15320000.0  \n",
              "4       1320000.0    14760000.0  \n",
              "...           ...           ...  \n",
              "3058      10000.0      100000.0  \n",
              "3059      10000.0      100000.0  \n",
              "3060          0.0      100000.0  \n",
              "3061      10000.0      100000.0  \n",
              "3062      10000.0      100000.0  \n",
              "\n",
              "[3063 rows x 10 columns]"
            ]
          },
          "execution_count": 15,
          "metadata": {},
          "output_type": "execute_result"
        }
      ],
      "source": [
        "#import vgsales-10.csv ke dalam dataframe baru\n",
        "df_gsales3 = pd.read_csv('vgsales-10.csv')\n",
        "\n",
        "df_gsales3"
      ]
    },
    {
      "cell_type": "markdown",
      "metadata": {},
      "source": [
        "Selanjutnya kita akan melakukan analisa data dibantu oleh deskripsi masalah atau pertanyaan-pertanyaan yang telah kita uraikan menggunakan framework 5W+1H, analisa ini akan dilakukan dengan visualisasi dan statistika."
      ]
    },
    {
      "cell_type": "markdown",
      "metadata": {},
      "source": [
        "1. <b> VISUALISASI </b>\n",
        "\n",
        "- Di region mana kah penjualan game terbanyak terjadi?\n",
        "\n",
        "- 10 publisher apa yang memiliki penjualan terbaik dari tahun 2010 sampai 2016?\n",
        "\n",
        "- Berapa rata-rata penjualan di masing-masing region dari tahun 2010 sampai 2016?\n",
        "\n",
        "- Apakah ada peningkatan penjualan game dari tahun 2010 sampai 2016?\n",
        "\n",
        "- 10 Genre apa yang memiliki penjualan terbaik dari tahun 2010 sampai 2016?\n",
        "\n",
        "- Bagaimana persentase penjulalan 6 platform terbaik?\n",
        "\n",
        "2. <b> STATISTIKA DESKRIPTIF </b>\n",
        "\n",
        "- Bagaimana pemusatan data penjualan game sejak tahun 2010 sampai 2016 jika dilihat dari penjualan global?\n",
        "\n",
        "- Dari data yang kita miliki, Apa saja faktor yang memiliki korelasi dengan penjualan global?\n",
        "\n",
        "3. <b> STATISTIKA INFERENSIAL </b>\n",
        "\n",
        "- Apakah ada perbedaan penjualan unit antara 4 region yang datanya kita miliki?"
      ]
    },
    {
      "cell_type": "markdown",
      "metadata": {},
      "source": [
        "### VISUALISASI"
      ]
    },
    {
      "cell_type": "markdown",
      "metadata": {},
      "source": [
        "#### Di region mana kah penjualan game terbanyak terjadi?"
      ]
    },
    {
      "cell_type": "code",
      "execution_count": 16,
      "metadata": {},
      "outputs": [
        {
          "name": "stdout",
          "output_type": "stream",
          "text": [
            "1089890000.0\n",
            "818060000.0\n",
            "261320000.0\n",
            "265030000.0\n",
            "2434300000.0\n"
          ]
        }
      ],
      "source": [
        "#mencari total sales dari semua region\n",
        "NA_Salestot = sum(df_gsales3['NA_Sales'])\n",
        "EU_Salestot = sum(df_gsales3['EU_Sales'])\n",
        "JP_Salestot = sum(df_gsales3['JP_Sales'])\n",
        "OT_Salestot = sum(df_gsales3['Other_Sales'])\n",
        "GL_Salestot = sum(df_gsales3['Global_Sales'])\n",
        "\n",
        "print(NA_Salestot)\n",
        "print(EU_Salestot)\n",
        "print(JP_Salestot)\n",
        "print(OT_Salestot)\n",
        "print(GL_Salestot)"
      ]
    },
    {
      "cell_type": "code",
      "execution_count": 17,
      "metadata": {},
      "outputs": [
        {
          "data": {
            "text/html": [
              "<div>\n",
              "<style scoped>\n",
              "    .dataframe tbody tr th:only-of-type {\n",
              "        vertical-align: middle;\n",
              "    }\n",
              "\n",
              "    .dataframe tbody tr th {\n",
              "        vertical-align: top;\n",
              "    }\n",
              "\n",
              "    .dataframe thead th {\n",
              "        text-align: right;\n",
              "    }\n",
              "</style>\n",
              "<table border=\"1\" class=\"dataframe\">\n",
              "  <thead>\n",
              "    <tr style=\"text-align: right;\">\n",
              "      <th></th>\n",
              "      <th>Region</th>\n",
              "      <th>Total Sales</th>\n",
              "    </tr>\n",
              "  </thead>\n",
              "  <tbody>\n",
              "    <tr>\n",
              "      <th>0</th>\n",
              "      <td>NA_Sales</td>\n",
              "      <td>1089890000</td>\n",
              "    </tr>\n",
              "    <tr>\n",
              "      <th>1</th>\n",
              "      <td>EU_Sales</td>\n",
              "      <td>818060000</td>\n",
              "    </tr>\n",
              "    <tr>\n",
              "      <th>2</th>\n",
              "      <td>JP_Sales</td>\n",
              "      <td>261320000</td>\n",
              "    </tr>\n",
              "    <tr>\n",
              "      <th>3</th>\n",
              "      <td>Other_Sales</td>\n",
              "      <td>265030000</td>\n",
              "    </tr>\n",
              "    <tr>\n",
              "      <th>4</th>\n",
              "      <td>Global_Sales</td>\n",
              "      <td>2434300000</td>\n",
              "    </tr>\n",
              "  </tbody>\n",
              "</table>\n",
              "</div>"
            ],
            "text/plain": [
              "         Region  Total Sales\n",
              "0      NA_Sales   1089890000\n",
              "1      EU_Sales    818060000\n",
              "2      JP_Sales    261320000\n",
              "3   Other_Sales    265030000\n",
              "4  Global_Sales   2434300000"
            ]
          },
          "execution_count": 17,
          "metadata": {},
          "output_type": "execute_result"
        }
      ],
      "source": [
        "#membuat dataframe berisi total sales semua region\n",
        "data = {\n",
        "    'Region': ['NA_Sales', 'EU_Sales', 'JP_Sales', 'Other_Sales', 'Global_Sales'],\n",
        "    'Total Sales': [1089890000, 818060000, 261320000, 265030000, 2434300000]\n",
        "}\n",
        "\n",
        "df_salestot = pd.DataFrame(data)\n",
        "\n",
        "df_salestot"
      ]
    },
    {
      "cell_type": "code",
      "execution_count": 18,
      "metadata": {},
      "outputs": [
        {
          "data": {
            "image/png": "[encoded data removed]",
            "text/plain": [
              "<Figure size 1000x600 with 1 Axes>"
            ]
          },
          "metadata": {},
          "output_type": "display_data"
        }
      ],
      "source": [
        "#membuat bar chart\n",
        "plt.figure(figsize=(10, 6))\n",
        "bars = plt.bar(df_salestot['Region'], df_salestot['Total Sales'], color='skyblue')\n",
        "plt.title('Total Sales by Region')\n",
        "plt.xlabel('Region')\n",
        "plt.ylabel('Total Sales in billions')\n",
        "\n",
        "for bar in bars:\n",
        "    yval = bar.get_height()\n",
        "    plt.text(bar.get_x() + bar.get_width()/2, yval, int(yval), ha='center', va='bottom')\n",
        "\n",
        "plt.show()"
      ]
    },
    {
      "cell_type": "markdown",
      "metadata": {},
      "source": [
        "\n",
        "Data yang diberikan menunjukkan total penjualan untuk berbagai wilayah: North America (NA_Sales), Europe (EU_Sales), Japan (JP_Sales), dan Other regions (Other_Sales).\n",
        "\n",
        "Berikut adalah beberapa kesimpulan berdasarkan data tersebut:\n",
        "\n",
        "> North America (NA_Sales):\n",
        "NA_Sales memiliki total penjualan tertinggi di antara wilayah yang tercantum, dengan nilai sebesar 1.089.890.000.\n",
        "\n",
        "> Europe (EU_Sales):\n",
        "EU_Sales berada di peringkat kedua tertinggi di antara wilayah yang tercantum, dengan total penjualan sebesar 818.060.000.\n",
        "\n",
        "> Japan (JP_Sales):\n",
        "JP_Sales memiliki total penjualan sebesar 261.320.000, yang jauh lebih rendah dibandingkan dengan North America dan Europe.\n",
        "\n",
        "> Other Regions (Other_Sales):\n",
        "Penjualan di Other regions memiliki total sebesar 265.030.000, jumlah yang mirip dengan Japan.\n",
        "\n",
        "Kesimpulan ini memberikan gambaran umum tentang komparasi penjualan di berbagai wilayah. dan selanjutnya kita dapat gunakan sebagai referensi pemilihan pemfokusan region untuk game ini."
      ]
    },
    {
      "cell_type": "markdown",
      "metadata": {},
      "source": [
        "#### 10 publisher apa yang memiliki penjualan terbaik dari tahun 2010 sampai 2016?"
      ]
    },
    {
      "cell_type": "code",
      "execution_count": 19,
      "metadata": {},
      "outputs": [
        {
          "data": {
            "text/html": [
              "<div>\n",
              "<style scoped>\n",
              "    .dataframe tbody tr th:only-of-type {\n",
              "        vertical-align: middle;\n",
              "    }\n",
              "\n",
              "    .dataframe tbody tr th {\n",
              "        vertical-align: top;\n",
              "    }\n",
              "\n",
              "    .dataframe thead th {\n",
              "        text-align: right;\n",
              "    }\n",
              "</style>\n",
              "<table border=\"1\" class=\"dataframe\">\n",
              "  <thead>\n",
              "    <tr style=\"text-align: right;\">\n",
              "      <th></th>\n",
              "      <th>Global_Sales</th>\n",
              "    </tr>\n",
              "    <tr>\n",
              "      <th>Publisher</th>\n",
              "      <th></th>\n",
              "    </tr>\n",
              "  </thead>\n",
              "  <tbody>\n",
              "    <tr>\n",
              "      <th>Electronic Arts</th>\n",
              "      <td>359520000.0</td>\n",
              "    </tr>\n",
              "    <tr>\n",
              "      <th>Nintendo</th>\n",
              "      <td>300040000.0</td>\n",
              "    </tr>\n",
              "    <tr>\n",
              "      <th>Activision</th>\n",
              "      <td>291720000.0</td>\n",
              "    </tr>\n",
              "    <tr>\n",
              "      <th>Ubisoft</th>\n",
              "      <td>216690000.0</td>\n",
              "    </tr>\n",
              "    <tr>\n",
              "      <th>Take-Two Interactive</th>\n",
              "      <td>174550000.0</td>\n",
              "    </tr>\n",
              "    <tr>\n",
              "      <th>Microsoft Game Studios</th>\n",
              "      <td>123590000.0</td>\n",
              "    </tr>\n",
              "    <tr>\n",
              "      <th>Sony Computer Entertainment</th>\n",
              "      <td>122940000.0</td>\n",
              "    </tr>\n",
              "    <tr>\n",
              "      <th>Warner Bros. Interactive Entertainment</th>\n",
              "      <td>112800000.0</td>\n",
              "    </tr>\n",
              "    <tr>\n",
              "      <th>Namco Bandai Games</th>\n",
              "      <td>85450000.0</td>\n",
              "    </tr>\n",
              "    <tr>\n",
              "      <th>Square Enix</th>\n",
              "      <td>76040000.0</td>\n",
              "    </tr>\n",
              "  </tbody>\n",
              "</table>\n",
              "</div>"
            ],
            "text/plain": [
              "                                        Global_Sales\n",
              "Publisher                                           \n",
              "Electronic Arts                          359520000.0\n",
              "Nintendo                                 300040000.0\n",
              "Activision                               291720000.0\n",
              "Ubisoft                                  216690000.0\n",
              "Take-Two Interactive                     174550000.0\n",
              "Microsoft Game Studios                   123590000.0\n",
              "Sony Computer Entertainment              122940000.0\n",
              "Warner Bros. Interactive Entertainment   112800000.0\n",
              "Namco Bandai Games                        85450000.0\n",
              "Square Enix                               76040000.0"
            ]
          },
          "execution_count": 19,
          "metadata": {},
          "output_type": "execute_result"
        }
      ],
      "source": [
        "#menjumlahkan Global Sales berdasarkan publisher\n",
        "df_publishersales = df_gsales3.groupby(['Publisher']).agg({'Global_Sales':'sum'})\n",
        "\n",
        "df_publishersales.sort_values(by='Global_Sales', ascending=False, inplace=True)\n",
        "\n",
        "df_publishersales = df_publishersales.head(10)\n",
        "\n",
        "df_publishersales"
      ]
    },
    {
      "cell_type": "code",
      "execution_count": 54,
      "metadata": {},
      "outputs": [
        {
          "data": {
            "text/plain": [
              "Text(0.5, 0, 'Global Sales in hundred millions')"
            ]
          },
          "execution_count": 54,
          "metadata": {},
          "output_type": "execute_result"
        },
        {
          "data": {
            "image/png": "[encoded data removed]",
            "text/plain": [
              "<Figure size 640x480 with 1 Axes>"
            ]
          },
          "metadata": {},
          "output_type": "display_data"
        }
      ],
      "source": [
        "#membuat bar chart horizontal\n",
        "\n",
        "df_publishersales = df_publishersales.sort_values(by='Global_Sales')\n",
        "\n",
        "plot = df_publishersales.plot(kind='barh')\n",
        "\n",
        "for index, value in enumerate(df_publishersales['Global_Sales']):\n",
        "    plot.text(value, index, f'{int(value):,}', ha='left', va='center')\n",
        "\n",
        "plt.xlim(0,500000000)\n",
        "plt.xlabel('Global Sales in hundred millions')"
      ]
    },
    {
      "cell_type": "markdown",
      "metadata": {},
      "source": [
        "Data yang diberikan menunjukkan total penjualan untuk 10 publisher game dengan total penjualan terbesar. Berikut adalah beberapa kesimpulan berdasarkan data tersebut:\n",
        "\n",
        "> Electronic Arts:\n",
        "Electronic Arts merupakan penerbit game teratas dalam hal penjualan total, dengan angka sebesar 359.520.000.\n",
        "\n",
        "> Nintendo:\n",
        "Nintendo mengikuti dengan penjualan total sebesar 300.040.000.\n",
        "\n",
        "> Activision:\n",
        "Activision menduduki posisi ketiga dengan penjualan total sebesar 291.720.000.\n",
        "\n",
        "> Ubisoft:\n",
        "Ubisoft berada pada posisi keempat dengan penjualan total sebesar 216.690.000.\n",
        "\n",
        "> Take-Two Interactive:\n",
        "Take-Two Interactive berada pada posisi kelima dengan penjualan total sebesar 174.550.000.\n",
        "\n",
        "> Microsoft Game Studios:\n",
        "Microsoft Game Studios menyusul dengan penjualan total sebesar 123.590.000.\n",
        "\n",
        "> Sony Computer Entertainment:\n",
        "Sony Computer Entertainment memiliki penjualan total sebesar 122.940.000.\n",
        "\n",
        "> Warner Bros. Interactive Entertainment:\n",
        "Warner Bros. Interactive Entertainment berada pada posisi kedelapan dengan penjualan total sebesar 112.800.000.\n",
        "\n",
        "> Namco Bandai Games:\n",
        "Namco Bandai Games menduduki posisi kesembilan dengan penjualan total sebesar 85.450.000.\n",
        "\n",
        "> Square Enix:\n",
        "Square Enix berada pada posisi kesepuluh dengan penjualan total sebesar 76.040.000.\n",
        "\n",
        "Informasi ini nantinya juga dapat kita gunakan untuk pemilihan partner publisher game, jika nantinya ditemukan adanya korelasi antara publisher dan banyaknya penjualan unit.  "
      ]
    },
    {
      "cell_type": "markdown",
      "metadata": {},
      "source": [
        "#### Berapa rata-rata penjualan di masing-masing region dari tahun 2010 sampai 2016?"
      ]
    },
    {
      "cell_type": "code",
      "execution_count": 21,
      "metadata": {},
      "outputs": [
        {
          "name": "stdout",
          "output_type": "stream",
          "text": [
            "355824.3552073131\n",
            "267078.02807704866\n",
            "85315.05060398302\n",
            "86526.28142344108\n",
            "794743.7153117858\n"
          ]
        }
      ],
      "source": [
        "#mencari rata-rata penjualan di setiap region\n",
        "NA_Salesavg = df_gsales3['NA_Sales'].mean()\n",
        "EU_Salesavg = df_gsales3['EU_Sales'].mean()\n",
        "JP_Salesavg = df_gsales3['JP_Sales'].mean()\n",
        "OT_Salesavg = df_gsales3['Other_Sales'].mean()\n",
        "GL_Salesavg = df_gsales3['Global_Sales'].mean()\n",
        "\n",
        "print(NA_Salesavg)\n",
        "print(EU_Salesavg)\n",
        "print(JP_Salesavg)\n",
        "print(OT_Salesavg)\n",
        "print(GL_Salesavg)"
      ]
    },
    {
      "cell_type": "code",
      "execution_count": 22,
      "metadata": {},
      "outputs": [
        {
          "data": {
            "text/html": [
              "<div>\n",
              "<style scoped>\n",
              "    .dataframe tbody tr th:only-of-type {\n",
              "        vertical-align: middle;\n",
              "    }\n",
              "\n",
              "    .dataframe tbody tr th {\n",
              "        vertical-align: top;\n",
              "    }\n",
              "\n",
              "    .dataframe thead th {\n",
              "        text-align: right;\n",
              "    }\n",
              "</style>\n",
              "<table border=\"1\" class=\"dataframe\">\n",
              "  <thead>\n",
              "    <tr style=\"text-align: right;\">\n",
              "      <th></th>\n",
              "      <th>Region</th>\n",
              "      <th>Average Sales</th>\n",
              "    </tr>\n",
              "  </thead>\n",
              "  <tbody>\n",
              "    <tr>\n",
              "      <th>0</th>\n",
              "      <td>NA_Sales</td>\n",
              "      <td>355824</td>\n",
              "    </tr>\n",
              "    <tr>\n",
              "      <th>1</th>\n",
              "      <td>EU_Sales</td>\n",
              "      <td>267078</td>\n",
              "    </tr>\n",
              "    <tr>\n",
              "      <th>2</th>\n",
              "      <td>JP_Sales</td>\n",
              "      <td>85315</td>\n",
              "    </tr>\n",
              "    <tr>\n",
              "      <th>3</th>\n",
              "      <td>Other_Sales</td>\n",
              "      <td>86526</td>\n",
              "    </tr>\n",
              "    <tr>\n",
              "      <th>4</th>\n",
              "      <td>Global_Sales</td>\n",
              "      <td>794743</td>\n",
              "    </tr>\n",
              "  </tbody>\n",
              "</table>\n",
              "</div>"
            ],
            "text/plain": [
              "         Region  Average Sales\n",
              "0      NA_Sales         355824\n",
              "1      EU_Sales         267078\n",
              "2      JP_Sales          85315\n",
              "3   Other_Sales          86526\n",
              "4  Global_Sales         794743"
            ]
          },
          "execution_count": 22,
          "metadata": {},
          "output_type": "execute_result"
        }
      ],
      "source": [
        "#membuat dataframe berisi rata2 penjualan tiap region\n",
        "data = {\n",
        "    'Region': ['NA_Sales', 'EU_Sales', 'JP_Sales', 'Other_Sales', 'Global_Sales'],\n",
        "    'Average Sales': [355824, 267078, 85315, 86526, 794743]\n",
        "}\n",
        "\n",
        "df_salesavg = pd.DataFrame(data)\n",
        "\n",
        "df_salesavg"
      ]
    },
    {
      "cell_type": "code",
      "execution_count": 23,
      "metadata": {},
      "outputs": [
        {
          "data": {
            "image/png": "[encoded data removed]",
            "text/plain": [
              "<Figure size 1000x600 with 1 Axes>"
            ]
          },
          "metadata": {},
          "output_type": "display_data"
        }
      ],
      "source": [
        "#membuat bar chart\n",
        "plt.figure(figsize=(10, 6))\n",
        "bars = plt.bar(df_salesavg['Region'], df_salesavg['Average Sales'], color='skyblue')\n",
        "plt.title('Average Sales by Region')\n",
        "plt.xlabel('Region')\n",
        "plt.ylabel('Average Sales in millions')\n",
        "\n",
        "for bar in bars:\n",
        "    yval = bar.get_height()\n",
        "    plt.text(bar.get_x() + bar.get_width()/2, yval, int(yval), ha='center', va='bottom')\n",
        "\n",
        "plt.show()"
      ]
    },
    {
      "cell_type": "markdown",
      "metadata": {},
      "source": [
        "\n",
        "Data tersebut menunjukkan rata-rata penjualan untuk berbagai wilayah:\n",
        "\n",
        "> North America (NA_Sales): Rata-rata Penjualan = 355,824 unit\n",
        "\n",
        "> Europe (EU_Sales): Rata-rata Penjualan = 267,078 unit\n",
        "\n",
        "> Japan (JP_Sales): Rata-rata Penjualan = 85,315 unit\n",
        "\n",
        "> Other Regions (Other_Sales): Rata-rata Penjualan = 86,526 unit\n",
        "\n",
        "Data tersebut dapat kita jadikan referensi rata-rata jumlah penjualan yang bisa kita dapatkan di masing-masing region. "
      ]
    },
    {
      "cell_type": "markdown",
      "metadata": {},
      "source": [
        "#### Apakah ada peningkatan penjualan game dari tahun 2010 sampai 2016?"
      ]
    },
    {
      "cell_type": "code",
      "execution_count": 24,
      "metadata": {},
      "outputs": [
        {
          "data": {
            "text/html": [
              "<div>\n",
              "<style scoped>\n",
              "    .dataframe tbody tr th:only-of-type {\n",
              "        vertical-align: middle;\n",
              "    }\n",
              "\n",
              "    .dataframe tbody tr th {\n",
              "        vertical-align: top;\n",
              "    }\n",
              "\n",
              "    .dataframe thead th {\n",
              "        text-align: right;\n",
              "    }\n",
              "</style>\n",
              "<table border=\"1\" class=\"dataframe\">\n",
              "  <thead>\n",
              "    <tr style=\"text-align: right;\">\n",
              "      <th></th>\n",
              "      <th>Global_Sales</th>\n",
              "    </tr>\n",
              "    <tr>\n",
              "      <th>Year</th>\n",
              "      <th></th>\n",
              "    </tr>\n",
              "  </thead>\n",
              "  <tbody>\n",
              "    <tr>\n",
              "      <th>2016</th>\n",
              "      <td>63350000.0</td>\n",
              "    </tr>\n",
              "    <tr>\n",
              "      <th>2015</th>\n",
              "      <td>251960000.0</td>\n",
              "    </tr>\n",
              "    <tr>\n",
              "      <th>2014</th>\n",
              "      <td>328130000.0</td>\n",
              "    </tr>\n",
              "    <tr>\n",
              "      <th>2013</th>\n",
              "      <td>360310000.0</td>\n",
              "    </tr>\n",
              "    <tr>\n",
              "      <th>2012</th>\n",
              "      <td>353820000.0</td>\n",
              "    </tr>\n",
              "    <tr>\n",
              "      <th>2011</th>\n",
              "      <td>496850000.0</td>\n",
              "    </tr>\n",
              "    <tr>\n",
              "      <th>2010</th>\n",
              "      <td>579880000.0</td>\n",
              "    </tr>\n",
              "  </tbody>\n",
              "</table>\n",
              "</div>"
            ],
            "text/plain": [
              "      Global_Sales\n",
              "Year              \n",
              "2016    63350000.0\n",
              "2015   251960000.0\n",
              "2014   328130000.0\n",
              "2013   360310000.0\n",
              "2012   353820000.0\n",
              "2011   496850000.0\n",
              "2010   579880000.0"
            ]
          },
          "execution_count": 24,
          "metadata": {},
          "output_type": "execute_result"
        }
      ],
      "source": [
        "#group by total global sales berdasarkan tahun\n",
        "df_yearsales = df_gsales3.groupby(['Year']).agg({'Global_Sales':'sum'})\n",
        "\n",
        "df_yearsales.sort_values(by='Year', ascending=False, inplace=True)\n",
        "\n",
        "df_yearsales"
      ]
    },
    {
      "cell_type": "code",
      "execution_count": 25,
      "metadata": {},
      "outputs": [
        {
          "data": {
            "text/plain": [
              "Text(0, 0.5, 'Global Sales in hundred millions')"
            ]
          },
          "execution_count": 25,
          "metadata": {},
          "output_type": "execute_result"
        },
        {
          "data": {
            "image/png": "[encoded data removed]",
            "text/plain": [
              "<Figure size 640x480 with 1 Axes>"
            ]
          },
          "metadata": {},
          "output_type": "display_data"
        }
      ],
      "source": [
        "#membuat line chart\n",
        "plot = df_yearsales.plot(kind='line')\n",
        "\n",
        "plt.ylabel('Global Sales in hundred millions')"
      ]
    },
    {
      "cell_type": "markdown",
      "metadata": {},
      "source": [
        "Data tersebut menunjukkan total penjualan game untuk setiap tahun:\n",
        "\n",
        "> 2016: 63,350,000\n",
        "\n",
        "> 2015: 251,960,000\n",
        "\n",
        "> 2014: 328,130,000\n",
        "\n",
        "> 2013: 360,310,000\n",
        "\n",
        "> 2012: 353,820,000\n",
        "\n",
        "> 2011: 496,850,000\n",
        "\n",
        "> 2010: 579,880,000\n",
        "\n",
        "Dari informasi yang kita temukan, terdapat kecenderungan penurunan penjualan yang cukup signifikan dalam total penjualan dari tahun 2010 hingga tahun 2016, kecuali di tahun 2013 dimana ada peningkatan penjualan dari tahun sebelumnya, namun peningkatan tidak terlalu signifikan.\n",
        "\n",
        "Penjualan pada tahun 2016 mencapai 63.350.000, menunjukkan penurunan yang substansial dibandingkan dengan puncak penjualan pada tahun 2010.\n",
        "\n",
        "Studio game dapat menggunakan data ini untuk merencanakan strategi pemasaran dan pengembangan game di masa depan. Memahami tren pasar dan mempersiapkan diri untuk perubahan dalam industri merupakan bagian penting dari perencanaan strategis."
      ]
    },
    {
      "cell_type": "markdown",
      "metadata": {},
      "source": [
        "#### 10 Genre apa yang memiliki penjualan terbaik dari tahun 2010 sampai 2016?"
      ]
    },
    {
      "cell_type": "code",
      "execution_count": 26,
      "metadata": {},
      "outputs": [
        {
          "data": {
            "text/html": [
              "<div>\n",
              "<style scoped>\n",
              "    .dataframe tbody tr th:only-of-type {\n",
              "        vertical-align: middle;\n",
              "    }\n",
              "\n",
              "    .dataframe tbody tr th {\n",
              "        vertical-align: top;\n",
              "    }\n",
              "\n",
              "    .dataframe thead th {\n",
              "        text-align: right;\n",
              "    }\n",
              "</style>\n",
              "<table border=\"1\" class=\"dataframe\">\n",
              "  <thead>\n",
              "    <tr style=\"text-align: right;\">\n",
              "      <th></th>\n",
              "      <th>Global_Sales</th>\n",
              "    </tr>\n",
              "    <tr>\n",
              "      <th>Genre</th>\n",
              "      <th></th>\n",
              "    </tr>\n",
              "  </thead>\n",
              "  <tbody>\n",
              "    <tr>\n",
              "      <th>Action</th>\n",
              "      <td>651800000.0</td>\n",
              "    </tr>\n",
              "    <tr>\n",
              "      <th>Shooter</th>\n",
              "      <td>458950000.0</td>\n",
              "    </tr>\n",
              "    <tr>\n",
              "      <th>Sports</th>\n",
              "      <td>316490000.0</td>\n",
              "    </tr>\n",
              "    <tr>\n",
              "      <th>Role-Playing</th>\n",
              "      <td>296540000.0</td>\n",
              "    </tr>\n",
              "    <tr>\n",
              "      <th>Misc</th>\n",
              "      <td>228580000.0</td>\n",
              "    </tr>\n",
              "    <tr>\n",
              "      <th>Racing</th>\n",
              "      <td>120020000.0</td>\n",
              "    </tr>\n",
              "    <tr>\n",
              "      <th>Platform</th>\n",
              "      <td>118490000.0</td>\n",
              "    </tr>\n",
              "    <tr>\n",
              "      <th>Fighting</th>\n",
              "      <td>78790000.0</td>\n",
              "    </tr>\n",
              "    <tr>\n",
              "      <th>Simulation</th>\n",
              "      <td>66530000.0</td>\n",
              "    </tr>\n",
              "    <tr>\n",
              "      <th>Adventure</th>\n",
              "      <td>47350000.0</td>\n",
              "    </tr>\n",
              "  </tbody>\n",
              "</table>\n",
              "</div>"
            ],
            "text/plain": [
              "              Global_Sales\n",
              "Genre                     \n",
              "Action         651800000.0\n",
              "Shooter        458950000.0\n",
              "Sports         316490000.0\n",
              "Role-Playing   296540000.0\n",
              "Misc           228580000.0\n",
              "Racing         120020000.0\n",
              "Platform       118490000.0\n",
              "Fighting        78790000.0\n",
              "Simulation      66530000.0\n",
              "Adventure       47350000.0"
            ]
          },
          "execution_count": 26,
          "metadata": {},
          "output_type": "execute_result"
        }
      ],
      "source": [
        "#group by total global sales berdasarkan genre\n",
        "df_genresales = df_gsales3.groupby(['Genre']).agg({'Global_Sales':'sum'})\n",
        "\n",
        "df_genresales.sort_values(by='Global_Sales', ascending=False, inplace=True)\n",
        "\n",
        "df_genresales = df_genresales.head(10)\n",
        "\n",
        "df_genresales"
      ]
    },
    {
      "cell_type": "code",
      "execution_count": 53,
      "metadata": {},
      "outputs": [
        {
          "data": {
            "text/plain": [
              "Text(0.5, 0, 'Global Sales in hundred millions')"
            ]
          },
          "execution_count": 53,
          "metadata": {},
          "output_type": "execute_result"
        },
        {
          "data": {
            "image/png": "[encoded data removed]",
            "text/plain": [
              "<Figure size 1200x1500 with 1 Axes>"
            ]
          },
          "metadata": {},
          "output_type": "display_data"
        }
      ],
      "source": [
        "#membuat horizontal bar chart \n",
        "df_genresales = df_genresales.sort_values(by='Global_Sales')\n",
        "\n",
        "plot = df_genresales.plot(kind='barh', figsize=(12,15))\n",
        "\n",
        "for index, value in enumerate(df_genresales['Global_Sales']):\n",
        "    plot.text(value, index, f'{int(value):,}', ha='left', va='center')\n",
        "\n",
        "plt.xlim([0, 800000000])\n",
        "plt.xlabel('Global Sales in hundred millions')"
      ]
    },
    {
      "cell_type": "markdown",
      "metadata": {},
      "source": [
        "Berikut adalah beberapa kesimpulan berdasarkan data total penjualan global untuk 10 genre game dengan penjualan terbaik:\n",
        "\n",
        "\n",
        "> Genre \"Action\" memiliki total penjualan global tertinggi, yaitu sebesar 651.800.000, menunjukkan popularitas tinggi di kalangan konsumen.\n",
        "\n",
        "> Genre seperti \"Shooter\" dan \"Sports\" juga memiliki total penjualan global yang signifikan, masing-masing sebesar 458.950.000 dan 316.490.000.\n",
        "Genre \"Role-Playing\" dan \"Misc\" juga memiliki penjualan total yang cukup tinggi, yaitu 296.540.000 dan 228.580.000.\n",
        "\n",
        ">  Genre \"Racing\" dan \"Platform\" masih memiliki penjualan total diatas 100 juta unit, yaitu di angka 120.020.000 dan 118.490.000. Sedangkan 3 genre dengan penjualan terendah di 10 penjualan tertinggi adalah \"Fighting\", \"Simulation\", dan \"Adventure\", dengan penjualan total sebesar 78.790.000, 66.530.000, dan 47.350.000. \n",
        "\n",
        "Popularitas genre game tertentu mencerminkan tren konsumen dan preferensi pasar saat ini. Data ini dapat membantu dalam merencanakan pengembangan lebih lanjut atau fokus pada genre yang lebih populer untuk meningkatkan penjualan."
      ]
    },
    {
      "cell_type": "markdown",
      "metadata": {},
      "source": [
        "#### Bagaimana persentase penjulalan 6 platform terbaik?"
      ]
    },
    {
      "cell_type": "code",
      "execution_count": 28,
      "metadata": {},
      "outputs": [
        {
          "data": {
            "text/html": [
              "<div>\n",
              "<style scoped>\n",
              "    .dataframe tbody tr th:only-of-type {\n",
              "        vertical-align: middle;\n",
              "    }\n",
              "\n",
              "    .dataframe tbody tr th {\n",
              "        vertical-align: top;\n",
              "    }\n",
              "\n",
              "    .dataframe thead th {\n",
              "        text-align: right;\n",
              "    }\n",
              "</style>\n",
              "<table border=\"1\" class=\"dataframe\">\n",
              "  <thead>\n",
              "    <tr style=\"text-align: right;\">\n",
              "      <th></th>\n",
              "      <th>Platform</th>\n",
              "      <th>Global_Sales</th>\n",
              "    </tr>\n",
              "  </thead>\n",
              "  <tbody>\n",
              "    <tr>\n",
              "      <th>0</th>\n",
              "      <td>PS3</td>\n",
              "      <td>592080000.0</td>\n",
              "    </tr>\n",
              "    <tr>\n",
              "      <th>1</th>\n",
              "      <td>X360</td>\n",
              "      <td>549680000.0</td>\n",
              "    </tr>\n",
              "    <tr>\n",
              "      <th>2</th>\n",
              "      <td>PS4</td>\n",
              "      <td>272700000.0</td>\n",
              "    </tr>\n",
              "    <tr>\n",
              "      <th>3</th>\n",
              "      <td>3DS</td>\n",
              "      <td>236420000.0</td>\n",
              "    </tr>\n",
              "    <tr>\n",
              "      <th>4</th>\n",
              "      <td>Wii</td>\n",
              "      <td>226060000.0</td>\n",
              "    </tr>\n",
              "    <tr>\n",
              "      <th>5</th>\n",
              "      <td>XOne</td>\n",
              "      <td>138840000.0</td>\n",
              "    </tr>\n",
              "    <tr>\n",
              "      <th>6</th>\n",
              "      <td>Other</td>\n",
              "      <td>418520000.0</td>\n",
              "    </tr>\n",
              "  </tbody>\n",
              "</table>\n",
              "</div>"
            ],
            "text/plain": [
              "  Platform  Global_Sales\n",
              "0      PS3   592080000.0\n",
              "1     X360   549680000.0\n",
              "2      PS4   272700000.0\n",
              "3      3DS   236420000.0\n",
              "4      Wii   226060000.0\n",
              "5     XOne   138840000.0\n",
              "6    Other   418520000.0"
            ]
          },
          "execution_count": 28,
          "metadata": {},
          "output_type": "execute_result"
        }
      ],
      "source": [
        "#mencari 6 platform penjualan terbaik, sisanya dimasukkan kedalam kategori others \n",
        "df_platformsales = df_gsales3.groupby(['Platform'], as_index=False).agg({'Global_Sales':'sum'})\n",
        "\n",
        "df_platformsales.sort_values(by='Global_Sales', ascending=False, inplace=True)\n",
        "\n",
        "df_platformsales5 = df_platformsales[:6]\n",
        "\n",
        "df_platformsalesOther = df_platformsales[6:]\n",
        "df_othersum = df_platformsalesOther['Global_Sales'].sum()\n",
        "df_others = {'Platform': 'Other', 'Global_Sales': df_othersum}\n",
        "\n",
        "df_psales = pd.concat([df_platformsales5, pd.DataFrame([df_others])], ignore_index=True)\n",
        "df_psales"
      ]
    },
    {
      "cell_type": "code",
      "execution_count": 29,
      "metadata": {},
      "outputs": [
        {
          "data": {
            "image/png": "[encoded data removed]",
            "text/plain": [
              "<Figure size 800x800 with 1 Axes>"
            ]
          },
          "metadata": {},
          "output_type": "display_data"
        }
      ],
      "source": [
        "#membuat pie chart\n",
        "fig,ax1 = plt.subplots(figsize=(8,8))\n",
        "df_sales_chart = df_psales.set_index('Platform')\n",
        "df_sales_chart['Global_Sales'].plot(kind='pie',  autopct='%.2f%%',ax=ax1)\n",
        "plt.show()"
      ]
    },
    {
      "cell_type": "markdown",
      "metadata": {},
      "source": [
        "Berdasarkan data penjualan global untuk 5 platform game dengan penjualan total terbaik, berikut adalah beberapa kesimpulan:\n",
        "\n",
        "> Penjualan Tinggi untuk Konsol Generasi Sebelumnya:\n",
        "Baik PS3 maupun Xbox 360 (X360) mencapai penjualan global yang cukup besar, dengan PS3 sedikit unggul dengan 592.080.000, dan X360 mengikuti dengan 549.680.000. Ini menunjukkan minat konsumen untuk game di platform-platform ini masih ada.\n",
        "\n",
        "> Kesuksesan untuk PS4 dan XOne:\n",
        "PS4 telah mencapai penjualan global yang signifikan, mencapai 272.700.000. Meskipun penjualannya lebih rendah dibandingkan konsol generasi sebelumnya, ini menunjukkan adopsi yang sukses dari platform PS4 di pasar. Sementara platform generasi terbaru Xbox yaitu XOne telah mencapai angka penjualan 138.840.000.\n",
        "\n",
        "> Gaming Portabel dengan 3DS:\n",
        "Platform Nintendo 3DS mencapai penjualan global sebesar 236.420.000. Ini menunjukkan popularitas berkelanjutan dari konsol game portabel, terutama dengan fitur unik yang ditawarkan oleh 3DS.\n",
        "\n",
        "> Kontribusi Wii:\n",
        "Platform Wii mencapai penjualan sebesar 226.060.000. Meskipun mewakili angka yang sedikit lebih rendah dibandingkan platform lain dalam daftar, ini menandakan relevansi Wii di pasar game.\n",
        "\n",
        "Menganalisis performa masing-masing platform memberikan wawasan tentang dinamika pasar dan preferensi konsumen. Memahami tren ini sangat penting untuk membuat keputusan tentang pengembangan game dan strategi pemasaran.\n",
        "\n",
        "Selanjutnya kita pertimbangkan untuk memanfaatkan kesuksesan konsol generasi sebelumnya seperti PS3 dan X360, dan juga berinvestasi dalam pasar yang berkembang untuk platform baru seperti PS4."
      ]
    },
    {
      "cell_type": "markdown",
      "metadata": {},
      "source": [
        "### STATISTIKA DESKRIPTIF"
      ]
    },
    {
      "cell_type": "markdown",
      "metadata": {},
      "source": [
        "#### Bagaimana pemusatan data penjualan game sejak tahun 2010 sampai 2016 jika dilihat dari penjualan global?"
      ]
    },
    {
      "cell_type": "code",
      "execution_count": 30,
      "metadata": {},
      "outputs": [
        {
          "name": "stdout",
          "output_type": "stream",
          "text": [
            "Global sales average: 794743.7153117858\n",
            "Median of global sales: 320000.0\n",
            "Mode of global sales: 100000.0\n"
          ]
        }
      ],
      "source": [
        "#menampilkan mean, median, dan modus dari global sales\n",
        "print('Global sales average:',df_gsales3['Global_Sales'].mean())\n",
        "print('Median of global sales:',df_gsales3['Global_Sales'].median())\n",
        "print('Mode of global sales:',df_gsales3['Global_Sales'].mode().values[0])"
      ]
    },
    {
      "cell_type": "markdown",
      "metadata": {},
      "source": [
        "> Rata-rata Penjualan Global: dapat terlihat bahwa rata-rata penjualan global adalah sebesar angka 794,743 unit.\n",
        "\n",
        "> Median Penjualan Global: ketika semua penjualan global diurutkan, nilai tengah yang didapat adalah sebesar 320,000 unit.\n",
        "\n",
        "> Modus Penjualan Global: Modus adalah value yang mewakili angka yang paling sering muncul, ini menunjukkan  bahwa 100,000 unit adalah tingkat penjualan yang umum atau banyak ditemukan di dalam data."
      ]
    },
    {
      "cell_type": "code",
      "execution_count": 31,
      "metadata": {},
      "outputs": [
        {
          "name": "stdout",
          "output_type": "stream",
          "text": [
            "Skewness: 6.044373138279105\n",
            "Kurtosis: 50.51465872581155\n"
          ]
        }
      ],
      "source": [
        "#menampilkan skewness dan kurtosis dari global sales\n",
        "print(f\"Skewness: {df_gsales3['Global_Sales'].skew()}\")\n",
        "print(f\"Kurtosis: {df_gsales3['Global_Sales'].kurtosis()}\")"
      ]
    },
    {
      "cell_type": "markdown",
      "metadata": {},
      "source": [
        "Berdasarkan data yang kita dapatkan, dapat disimpulkan bahwa:\n",
        "\n",
        "> Global Sales memiliki mean -> 794743, median -> 320000, saat value mean cukup jauh dari value median disini kita sudah dapat menyimpulkan bahwa terdapat outlier di dalam Global Sales. Value Skewness berada diatas angka 1 yaitu 6.04, yang berarti distribusi data ini tidak normal dan merupakan positive skew. Value dari kurtosis juga jauh diatas angka 0 yaitu 50.51, ini mengindikasikan bahwa ini merupakan leprokurtic kurtosis dan potensi hadirnya outlier di dalam data cukup besar.\n",
        "\n",
        "> Terdapatnya outlier di dalam data tidak serta-merta mengharuskan kita untuk membuang data-data outlier-nya. Seperti kasus di analisa ini, dikarenakan data ini adalah positive skewness maka dapat diasumsikan bahwa cukup banyak value penjualan dibawah rata-rata, tapi dalam analisa dan observasi yang kita lakukan ini kita memerlukan data-data outlier tersebut. "
      ]
    },
    {
      "cell_type": "markdown",
      "metadata": {},
      "source": [
        "#### Dari data yang kita miliki, Apa saja faktor yang memiliki korelasi dengan penjualan global?"
      ]
    },
    {
      "cell_type": "markdown",
      "metadata": {},
      "source": [
        "##### Apakah ada korelasi antara platform dengan penjualan global?"
      ]
    },
    {
      "cell_type": "code",
      "execution_count": 32,
      "metadata": {},
      "outputs": [
        {
          "name": "stdout",
          "output_type": "stream",
          "text": [
            "rho-correlation: 0.10\n",
            "p-value: 1.2187590005000063e-08\n"
          ]
        }
      ],
      "source": [
        "#spearman test\n",
        "corr_rho, pval_s = stats.spearmanr(df_gsales3['Platform'], df_gsales3['Global_Sales'])\n",
        "\n",
        "print(f\"rho-correlation: {corr_rho:.2f}\")\n",
        "print(f\"p-value: {pval_s}\")"
      ]
    },
    {
      "cell_type": "markdown",
      "metadata": {},
      "source": [
        "Analisa ini mencari apakah ada korelasi Platform dan Global Sales dengan metode spearman. Hipotesa dalam analisa ini adalah :\n",
        "\n",
        "> H0 : Platform dan Global Sales tidak memiliki keterkaitan\n",
        "\n",
        "> H1 : Platform dan Global Sales memiliki keterkaitan\n",
        "\n",
        "Diakarenakan p-value yang didapatkan jauh lebih kecil dari critical value (0.05), maka dapat disimpulkan bahwa H0 ditolak dan terdapat korelasi antara Platform dan Global Sales, walaupun hubungan tidak terlalu kuat dikarenakan value correlation yang cukup rendah."
      ]
    },
    {
      "cell_type": "markdown",
      "metadata": {},
      "source": [
        "##### Apakah ada korelasi antara genre dengan penjualan global?"
      ]
    },
    {
      "cell_type": "code",
      "execution_count": 33,
      "metadata": {},
      "outputs": [
        {
          "name": "stdout",
          "output_type": "stream",
          "text": [
            "rho-correlation: 0.06\n",
            "p-value: 0.0005218086201499191\n"
          ]
        }
      ],
      "source": [
        "#spearman test\n",
        "corr_rho, pval_s = stats.spearmanr(df_gsales3['Genre'], df_gsales3['Global_Sales'])\n",
        "\n",
        "print(f\"rho-correlation: {corr_rho:.2f}\")\n",
        "print(f\"p-value: {pval_s}\")"
      ]
    },
    {
      "cell_type": "markdown",
      "metadata": {},
      "source": [
        "Analisa ini mencari apakah ada korelasi Genre dan Global Sales dengan metode spearman. Hipotesa dalam analisa ini adalah :\n",
        "\n",
        "> H0 : Genre dan Global Sales tidak memiliki keterkaitan\n",
        "\n",
        "> H1 : Genre dan Global Sales memiliki keterkaitan\n",
        "\n",
        "Diakarenakan p-value yang didapatkan jauh lebih kecil dari critical value (0.05), maka dapat disimpulkan bahwa H0 ditolak dan terdapat korelasi antara Genre dan Global Sales, walaupun hubungan tidak terlalu kuat dikarenakan value correlation yang cukup rendah."
      ]
    },
    {
      "cell_type": "markdown",
      "metadata": {},
      "source": [
        "##### Apakah ada korelasi antara publisher dengan penjualan global?"
      ]
    },
    {
      "cell_type": "code",
      "execution_count": 34,
      "metadata": {},
      "outputs": [
        {
          "name": "stdout",
          "output_type": "stream",
          "text": [
            "rho-correlation: 0.03\n",
            "p-value: 0.13699158125428118\n"
          ]
        }
      ],
      "source": [
        "#spearman test\n",
        "corr_rho, pval_s = stats.spearmanr(df_gsales3['Publisher'], df_gsales3['Global_Sales'])\n",
        "\n",
        "print(f\"rho-correlation: {corr_rho:.2f}\")\n",
        "print(f\"p-value: {pval_s}\")"
      ]
    },
    {
      "cell_type": "markdown",
      "metadata": {},
      "source": [
        "Analisa ini mencari apakah ada korelasi Publisher dan Global Sales dengan metode spearman. Hipotesa dalam analisa ini adalah :\n",
        "\n",
        "> H0 : Publisher dan Global Sales tidak memiliki keterkaitan\n",
        "\n",
        "> H1 : Publisher dan Global Sales memiliki keterkaitan\n",
        "\n",
        "Dikarenakan p-value yang didapatkan lebih besar dari critical value (0.05), maka dapat disimpulkan bahwa H0 diterima dan tidak ada bukti bahwa adanya korelasi antara Publisher dan Global Sales."
      ]
    },
    {
      "cell_type": "markdown",
      "metadata": {},
      "source": [
        "### STATISTIKA INFERENSIAL"
      ]
    },
    {
      "cell_type": "markdown",
      "metadata": {},
      "source": [
        "#### Apakah ada perbedaan penjualan unit antara 4 region yang datanya kita miliki?"
      ]
    },
    {
      "cell_type": "code",
      "execution_count": 35,
      "metadata": {},
      "outputs": [
        {
          "data": {
            "text/html": [
              "<div>\n",
              "<style scoped>\n",
              "    .dataframe tbody tr th:only-of-type {\n",
              "        vertical-align: middle;\n",
              "    }\n",
              "\n",
              "    .dataframe tbody tr th {\n",
              "        vertical-align: top;\n",
              "    }\n",
              "\n",
              "    .dataframe thead th {\n",
              "        text-align: right;\n",
              "    }\n",
              "</style>\n",
              "<table border=\"1\" class=\"dataframe\">\n",
              "  <thead>\n",
              "    <tr style=\"text-align: right;\">\n",
              "      <th></th>\n",
              "      <th>Name</th>\n",
              "      <th>Platform</th>\n",
              "      <th>Year</th>\n",
              "      <th>Genre</th>\n",
              "      <th>Publisher</th>\n",
              "      <th>NA_Sales</th>\n",
              "      <th>EU_Sales</th>\n",
              "      <th>JP_Sales</th>\n",
              "      <th>Other_Sales</th>\n",
              "      <th>Global_Sales</th>\n",
              "    </tr>\n",
              "  </thead>\n",
              "  <tbody>\n",
              "    <tr>\n",
              "      <th>0</th>\n",
              "      <td>Kinect Adventures!</td>\n",
              "      <td>X360</td>\n",
              "      <td>2010</td>\n",
              "      <td>Misc</td>\n",
              "      <td>Microsoft Game Studios</td>\n",
              "      <td>14970000.0</td>\n",
              "      <td>4940000.0</td>\n",
              "      <td>240000.0</td>\n",
              "      <td>1670000.0</td>\n",
              "      <td>21820000.0</td>\n",
              "    </tr>\n",
              "    <tr>\n",
              "      <th>1</th>\n",
              "      <td>Grand Theft Auto V</td>\n",
              "      <td>PS3</td>\n",
              "      <td>2013</td>\n",
              "      <td>Action</td>\n",
              "      <td>Take-Two Interactive</td>\n",
              "      <td>7010000.0</td>\n",
              "      <td>9270000.0</td>\n",
              "      <td>970000.0</td>\n",
              "      <td>4140000.0</td>\n",
              "      <td>21400000.0</td>\n",
              "    </tr>\n",
              "    <tr>\n",
              "      <th>2</th>\n",
              "      <td>Grand Theft Auto V</td>\n",
              "      <td>X360</td>\n",
              "      <td>2013</td>\n",
              "      <td>Action</td>\n",
              "      <td>Take-Two Interactive</td>\n",
              "      <td>9630000.0</td>\n",
              "      <td>5310000.0</td>\n",
              "      <td>60000.0</td>\n",
              "      <td>1380000.0</td>\n",
              "      <td>16380000.0</td>\n",
              "    </tr>\n",
              "    <tr>\n",
              "      <th>3</th>\n",
              "      <td>Pokemon Black/Pokemon White</td>\n",
              "      <td>DS</td>\n",
              "      <td>2010</td>\n",
              "      <td>Role-Playing</td>\n",
              "      <td>Nintendo</td>\n",
              "      <td>5570000.0</td>\n",
              "      <td>3280000.0</td>\n",
              "      <td>5650000.0</td>\n",
              "      <td>820000.0</td>\n",
              "      <td>15320000.0</td>\n",
              "    </tr>\n",
              "    <tr>\n",
              "      <th>4</th>\n",
              "      <td>Call of Duty: Modern Warfare 3</td>\n",
              "      <td>X360</td>\n",
              "      <td>2011</td>\n",
              "      <td>Shooter</td>\n",
              "      <td>Activision</td>\n",
              "      <td>9030000.0</td>\n",
              "      <td>4280000.0</td>\n",
              "      <td>130000.0</td>\n",
              "      <td>1320000.0</td>\n",
              "      <td>14760000.0</td>\n",
              "    </tr>\n",
              "    <tr>\n",
              "      <th>...</th>\n",
              "      <td>...</td>\n",
              "      <td>...</td>\n",
              "      <td>...</td>\n",
              "      <td>...</td>\n",
              "      <td>...</td>\n",
              "      <td>...</td>\n",
              "      <td>...</td>\n",
              "      <td>...</td>\n",
              "      <td>...</td>\n",
              "      <td>...</td>\n",
              "    </tr>\n",
              "    <tr>\n",
              "      <th>3058</th>\n",
              "      <td>Natural Doctrine</td>\n",
              "      <td>PS4</td>\n",
              "      <td>2014</td>\n",
              "      <td>Role-Playing</td>\n",
              "      <td>Nippon Ichi Software</td>\n",
              "      <td>50000.0</td>\n",
              "      <td>20000.0</td>\n",
              "      <td>20000.0</td>\n",
              "      <td>10000.0</td>\n",
              "      <td>100000.0</td>\n",
              "    </tr>\n",
              "    <tr>\n",
              "      <th>3059</th>\n",
              "      <td>Mystery Stories: Curse of the Ancient Spirits</td>\n",
              "      <td>DS</td>\n",
              "      <td>2011</td>\n",
              "      <td>Adventure</td>\n",
              "      <td>GSP</td>\n",
              "      <td>50000.0</td>\n",
              "      <td>40000.0</td>\n",
              "      <td>0.0</td>\n",
              "      <td>10000.0</td>\n",
              "      <td>100000.0</td>\n",
              "    </tr>\n",
              "    <tr>\n",
              "      <th>3060</th>\n",
              "      <td>Kuroko's Basketball: Miracle Game</td>\n",
              "      <td>3DS</td>\n",
              "      <td>2014</td>\n",
              "      <td>Sports</td>\n",
              "      <td>Namco Bandai Games</td>\n",
              "      <td>0.0</td>\n",
              "      <td>0.0</td>\n",
              "      <td>100000.0</td>\n",
              "      <td>0.0</td>\n",
              "      <td>100000.0</td>\n",
              "    </tr>\n",
              "    <tr>\n",
              "      <th>3061</th>\n",
              "      <td>MindJack</td>\n",
              "      <td>X360</td>\n",
              "      <td>2011</td>\n",
              "      <td>Shooter</td>\n",
              "      <td>Square Enix</td>\n",
              "      <td>70000.0</td>\n",
              "      <td>20000.0</td>\n",
              "      <td>0.0</td>\n",
              "      <td>10000.0</td>\n",
              "      <td>100000.0</td>\n",
              "    </tr>\n",
              "    <tr>\n",
              "      <th>3062</th>\n",
              "      <td>ReCore</td>\n",
              "      <td>XOne</td>\n",
              "      <td>2016</td>\n",
              "      <td>Action</td>\n",
              "      <td>Microsoft Game Studios</td>\n",
              "      <td>60000.0</td>\n",
              "      <td>30000.0</td>\n",
              "      <td>0.0</td>\n",
              "      <td>10000.0</td>\n",
              "      <td>100000.0</td>\n",
              "    </tr>\n",
              "  </tbody>\n",
              "</table>\n",
              "<p>3063 rows × 10 columns</p>\n",
              "</div>"
            ],
            "text/plain": [
              "                                               Name Platform  Year  \\\n",
              "0                                Kinect Adventures!     X360  2010   \n",
              "1                                Grand Theft Auto V      PS3  2013   \n",
              "2                                Grand Theft Auto V     X360  2013   \n",
              "3                       Pokemon Black/Pokemon White       DS  2010   \n",
              "4                    Call of Duty: Modern Warfare 3     X360  2011   \n",
              "...                                             ...      ...   ...   \n",
              "3058                               Natural Doctrine      PS4  2014   \n",
              "3059  Mystery Stories: Curse of the Ancient Spirits       DS  2011   \n",
              "3060              Kuroko's Basketball: Miracle Game      3DS  2014   \n",
              "3061                                       MindJack     X360  2011   \n",
              "3062                                         ReCore     XOne  2016   \n",
              "\n",
              "             Genre               Publisher    NA_Sales   EU_Sales   JP_Sales  \\\n",
              "0             Misc  Microsoft Game Studios  14970000.0  4940000.0   240000.0   \n",
              "1           Action    Take-Two Interactive   7010000.0  9270000.0   970000.0   \n",
              "2           Action    Take-Two Interactive   9630000.0  5310000.0    60000.0   \n",
              "3     Role-Playing                Nintendo   5570000.0  3280000.0  5650000.0   \n",
              "4          Shooter              Activision   9030000.0  4280000.0   130000.0   \n",
              "...            ...                     ...         ...        ...        ...   \n",
              "3058  Role-Playing    Nippon Ichi Software     50000.0    20000.0    20000.0   \n",
              "3059     Adventure                     GSP     50000.0    40000.0        0.0   \n",
              "3060        Sports      Namco Bandai Games         0.0        0.0   100000.0   \n",
              "3061       Shooter             Square Enix     70000.0    20000.0        0.0   \n",
              "3062        Action  Microsoft Game Studios     60000.0    30000.0        0.0   \n",
              "\n",
              "      Other_Sales  Global_Sales  \n",
              "0       1670000.0    21820000.0  \n",
              "1       4140000.0    21400000.0  \n",
              "2       1380000.0    16380000.0  \n",
              "3        820000.0    15320000.0  \n",
              "4       1320000.0    14760000.0  \n",
              "...           ...           ...  \n",
              "3058      10000.0      100000.0  \n",
              "3059      10000.0      100000.0  \n",
              "3060          0.0      100000.0  \n",
              "3061      10000.0      100000.0  \n",
              "3062      10000.0      100000.0  \n",
              "\n",
              "[3063 rows x 10 columns]"
            ]
          },
          "execution_count": 35,
          "metadata": {},
          "output_type": "execute_result"
        }
      ],
      "source": [
        "df_gsales3"
      ]
    },
    {
      "cell_type": "markdown",
      "metadata": {},
      "source": [
        "#### ANOVA TESTING"
      ]
    },
    {
      "cell_type": "code",
      "execution_count": 36,
      "metadata": {},
      "outputs": [
        {
          "name": "stdout",
          "output_type": "stream",
          "text": [
            "P-value: 2.2326546886611084e-135\n"
          ]
        }
      ],
      "source": [
        "#melakukan anova test\n",
        "res = stats.f_oneway(df_gsales3['NA_Sales'], df_gsales3['EU_Sales'], df_gsales3['JP_Sales'], df_gsales3['Other_Sales'])\n",
        "\n",
        "print('P-value:',res.pvalue)"
      ]
    },
    {
      "cell_type": "markdown",
      "metadata": {},
      "source": [
        "Analisa ini mencari apakah ada perbedaan yang signifikan antara 4 region yang datanya kita miliki yaitu North America, European Union, Japan, dan Others. Hipotesa dalam analisa ini adalah :\n",
        "\n",
        "> H0: Tidak ada perbedaan yang signifikan antara 4 region yang ada.\n",
        "\n",
        "> H1: Terdapat perbedaan yang signifikan antara 4 region yang ada. \n",
        "\n",
        "Dikarenakan p-value yang didapatkan jauh lebih kecil dari critical value (0.05), maka dapat disimpulkan bahwa H0 ditolak dan terdapat perbedaan antara 4 region yang ada, yaitu North America, European Union, Japan, dan Others."
      ]
    },
    {
      "cell_type": "markdown",
      "metadata": {
        "id": "xvo9fBGj77Bz"
      },
      "source": [
        "# CONCLUSION"
      ]
    },
    {
      "cell_type": "markdown",
      "metadata": {},
      "source": [
        "Dari semua analisa visualisasi dan statistik yang telah dilakukan, saya sebagai seorang data analyst di Studio Game Game8, dapat menyimpulkan beberapa poin yang dapat menjadi strategi penjualan untuk game selanjutnya. Poin-poin yang saya dapatkan adalah:\n",
        "\n",
        "> Fokus pada pengembangan game dengan genre \"Action\" dapat menjadi pilihan strategis, mengingat genre ini memiliki total penjualan global tertinggi. Selain itu, pertimbangkan pula genre-game populer lainnya seperti \"Shooter\", \"Sports\", dan \"Role-Playing\".\n",
        "\n",
        "> Dikarenakan dominasi region North America dalam total penjualan game cukup signifikan dan pada Anova Testing terlihat bahwa ada perbedaan signifikan antara masing-masing region, maka kita dapat fokuskan penjualan game selanjutnya kesana terlebih dahulu. Ini sangat membantu dikarenakan game yang akan dibuat akan berbahasa inggris, Ini sangat membantu mengurangi biaya dan waktu pembuatan game karena tidak memerlukan lokalisasi dan translasi.\n",
        "\n",
        "> Kita juga perlu mempertimbangkan masuk ke pasar global, untuk mencapai pasar yang lebih luas. Namun untuk hal ini akan diperlukan biaya dan waktu yang signifikan.\n",
        "\n",
        "> Pada testing kita temukan bahwa tidak ada hubungan antara publisher dengan sales, dari sini dapat diambil beberapa jalur strategi, kita dapat bekerjasama dengan publisher dengan rekam jejak terbaik, bekerjasama dengan publisher yang kita sukai, atau bekerjasama dengan publisher yang menawarkan kontrak paling menguntungkan.\n",
        "\n",
        "> Pembuatan Game dapat difokuskan terhadap platform dengan persentase penjualan terbaik di pasar game, Kita dapatkan bahwa PS3 dan X360 memiliki persentase yang mirip, ini adalah target utama platform untuk game selanjutnya. Namun, harus juga fokus terhadap PS4 dan XOne sebagai platform generasi baru yang telah mencapai penjualan yang cukup signifikan. \n",
        "\n",
        "Konklusi yang didapatkan adalah dengan menggabungkan pendekatan yang sesuai dengan poin-poin diatas, Studio Game Game8 dapat memaksimalkan peluang peningkatan penjualan sebesar 25% untuk game selanjutnya. Tapi penting untuk diingat untuk tetap fleksibel dan siap untuk menyesuaikan strategi berdasarkan respons pasar dan tren yang ada."
      ]
    }
  ],
  "metadata": {
    "colab": {
      "provenance": []
    },
    "kernelspec": {
      "display_name": "Python 3",
      "name": "python3"
    },
    "language_info": {
      "codemirror_mode": {
        "name": "ipython",
        "version": 3
      },
      "file_extension": ".py",
      "mimetype": "text/x-python",
      "name": "python",
      "nbconvert_exporter": "python",
      "pygments_lexer": "ipython3",
      "version": "3.11.5"
    }
  },
  "nbformat": 4,
  "nbformat_minor": 0
}
